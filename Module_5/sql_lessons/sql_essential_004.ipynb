{
 "cells": [
  {
   "cell_type": "markdown",
   "metadata": {
    "collapsed": false
   },
   "source": [
    "# Введення в реляційні бази даних.\n",
    "# PostgreSQL + Python\n",
    "\n",
    "---\n",
    "\n",
    "## лекція 4: Інші об'єкти бази даних: представлення, функції."
   ]
  },
  {
   "cell_type": "code",
   "execution_count": null,
   "metadata": {
    "collapsed": true
   },
   "outputs": [],
   "source": [
    "from python_postgresql import execute_query, execute_read_query, connection\n",
    "print(\"лекція 4: Інші об'єкти бази даних: представлення, функції.\")"
   ]
  },
  {
   "cell_type": "markdown",
   "metadata": {
    "collapsed": false
   },
   "source": [
    "### Представлення - VIEW.\n",
    "\n",
    "До цього єдиним об'єктом БД з яким ми працювали були таблиці. Але БД - досить складні комплекси з великою кількістю завдань і можливостей, щоб працювати з одним типом об'єктів.\n",
    "\n",
    "Представлення - VIEW - це збережений запит формі об'єкта БД (така собі віртуальна таблиця).\n",
    "Так як це таблиця, то ми можемо робити до неї SELECT, JOIN - і використовувати в будь-яких операціях для отримання інформації.\n",
    "Швидкість виконання цих запитів буде такою ж, як і з реальною таблицею (+\\-).\n",
    "\n",
    "Для чого це можна використовувати:\n",
    "- існують методи кешування частих запитів користувачів (використовуються на великих БД із значними обсягами даних і потоком запитів) які називають \"матеріалізація\". Це допомагає суттєво підвищити швидкість обробки запитів.\n",
    "-  дає можливість спростити складні запити - коли часто використовуємий підзапит реалізується як VIEW і ви просто ніби працюєте з існуючою таблицею (хоча, по суті, це підзапит)\n",
    "- допомагає спростити роботу якогось прошарку користувачів, для яких є характерним якийсь конкретний запит: ви створюєте для них VIEW на основі запиту будь-якої складності. І далі вони ніби працюють з однією таблицею в якій є все, що їм необхідно, отримуючи інформацію за допомогою простих запитів. Це може бути актуально коли користувач використовує ORM і для спрощення використання зручно підготувати для нього структури даних (хай і віртуальні), з якими просто працювати.\n",
    "- дозволяє закривати частину колонок від користувачів - створивши для таблиць VIEW які надають їм тільки ту інформацію, до якої у них повинен бути доступ. Можливо обмежити за допомогою фільтрів доступ до якихось рядків в таблицях.\n",
    "\n"
   ]
  },
  {
   "attachments": {},
   "cell_type": "markdown",
   "metadata": {
    "collapsed": false
   },
   "source": [
    "Представлення (VIEW) бувають:\n",
    "- тимчасові TEMPORARY або TEMP\n",
    "    - з такою вказівкою уявлення створюється як тимчасове. Тимчасові вистави автоматично видаляються наприкінці сеансу. Існуюче постійне уявлення з тим самим ім'ям не буде видно в поточному сеансі, доки існує тимчасове, проте до нього можна звернутися, доповнивши ім'я вказівкою схеми. Якщо у визначенні уявлення задіяні тимчасові таблиці, уявлення створюється як тимчасове (незалежно від присутності явної вказівки TEMPORARY).\n",
    "- рекурсивні - RECURSIVE\n",
    "    - використовують для створення VIEW на основі рекурсивних запитів. Ми не будемо в нашому курсі заглиблюватись в це питання.\n",
    "- оновлювані. Це, умовно кажучі, самі \"звичайні\" представлення з якими ми будемо в основному працювати.\n",
    "- матеріалізуємі представлення - матеріалізовані уявлення в Postgres Pro засновані на системі правил, як і звичайні уявлення, але їх вміст зберігається як таблиця. Це можна уявити як представлення, результати запитів до якого зберігаються як таблиця (\"матеріалізуються\") - ніби кешуються, для прискореного доступу для частих запитів. Зручно для часто виконуємих запитів для не дуже часто змінюємих даних, для прискорення роботи з віддаленими БД. Ми не будемо в рамках нашого курсу вивчати такі типи представлень.\n"
   ]
  },
  {
   "attachments": {},
   "cell_type": "markdown",
   "metadata": {},
   "source": [
    "#### Створення представлень\n",
    "\n",
    "[Докладно тут](https://www.postgresql.org/docs/current/sql-createview.html)\n",
    "\n",
    "Так виглядає визначення VIEW в офіційній документації:\n",
    "\n",
    "```SQL\n",
    "CREATE [ OR REPLACE ] [ TEMP | TEMPORARY ] [ RECURSIVE ] VIEW name [ ( column_name [, ...] ) ]\n",
    "    [ WITH ( view_option_name [= view_option_value] [, ... ] ) ]\n",
    "    AS query\n",
    "    [ WITH [ CASCADED | LOCAL ] CHECK OPTION ]\n",
    "```"
   ]
  },
  {
   "attachments": {},
   "cell_type": "markdown",
   "metadata": {},
   "source": [
    "Почнемо покроково - із більш спрощених варіантів:\n",
    "1) просте уявлення, створене з однієї таблиці, яке повертає нам лише два атрибута з цієї таблиці:\n",
    "\n",
    "```SQL\n",
    "CREATE VIEW view_name AS \n",
    "SELECT column1, column2 \n",
    "FROM table_name;\n",
    "```\n",
    "\n",
    "2) уявлення, створене з шляхом поєднання двохм таблиць:\n",
    "\n",
    "```SQL\n",
    "CREATE VIEW view_name AS\n",
    "SELECT column1, column2, column3 \n",
    "FROM table1 \n",
    "JOIN table2 \n",
    "ON table1.id = table2.id;\n",
    "```\n",
    "\n",
    "2) ну і третє представлення, в якому для формування одного з стовпчиків фінального набору використовується підзапит:\n",
    "\n",
    "```SQL\n",
    "CREATE VIEW view_name AS \n",
    "SELECT column1, column2, \n",
    "       (SELECT SUM(column3) \n",
    "        FROM table2 \n",
    "        WHERE table1.id = table2.id) AS sum_column3 \n",
    "FROM table1;\n",
    "```\n",
    "\n",
    "А тепер спробуємо ці запити реалізувати на нашій БД(перевірте - щоб всі контейнери були запущені):"
   ]
  },
  {
   "cell_type": "code",
   "execution_count": null,
   "metadata": {
    "collapsed": false
   },
   "outputs": [],
   "source": [
    "operation_query = \"\"\"\n",
    "CREATE VIEW customer_orders AS \n",
    "SELECT orders.order_id, orders.customer_id, orders.order_date \n",
    "FROM orders;\n",
    "\"\"\"\n",
    "\n",
    "final_set = execute_query(connection, operation_query)"
   ]
  },
  {
   "attachments": {},
   "cell_type": "markdown",
   "metadata": {},
   "source": [
    "Звертаю Вашу вагу - що цей запит створює об'єкт БД і не повертає результатів запиту - тому використовуємо функцію execute_query().\n",
    "Це представлення повертає нам __id__ замовлення, ідентифікатор користувача і дату створення замовлення.\n",
    "Тепер ми можемо стоврювати запити до створеної нами VIEWS як до звичайної таблиці:"
   ]
  },
  {
   "cell_type": "code",
   "execution_count": null,
   "metadata": {},
   "outputs": [],
   "source": [
    "operation_query = \"\"\"\n",
    "SELECT * \n",
    "FROM customer_orders;\n",
    "\"\"\"\n",
    "\n",
    "final_set = execute_read_query(connection, operation_query)\n",
    "if final_set:\n",
    "    for record in final_set:\n",
    "        print(record)\n",
    "else:\n",
    "    print(final_set)"
   ]
  },
  {
   "attachments": {},
   "cell_type": "markdown",
   "metadata": {},
   "source": [
    "для другого приклада:"
   ]
  },
  {
   "cell_type": "code",
   "execution_count": null,
   "metadata": {},
   "outputs": [],
   "source": [
    "operation_query = \"\"\"\n",
    "CREATE VIEW customer_order_details AS \n",
    "SELECT orders.order_id, orders.customer_id, order_details.product_id, order_details.quantity \n",
    "FROM orders \n",
    "JOIN order_details \n",
    "ON orders.order_id = order_details.order_id;\n",
    "\"\"\"\n",
    "\n",
    "final_set = execute_query(connection, operation_query)"
   ]
  },
  {
   "attachments": {},
   "cell_type": "markdown",
   "metadata": {},
   "source": [
    "і тепер робимо запит до створеного об'єкта БД:"
   ]
  },
  {
   "cell_type": "code",
   "execution_count": null,
   "metadata": {},
   "outputs": [],
   "source": [
    "operation_query = \"\"\"\n",
    "SELECT * \n",
    "FROM customer_order_details \n",
    "WHERE customer_id = 'ALFKI';\n",
    "\"\"\"\n",
    "\n",
    "final_set = execute_read_query(connection, operation_query)\n",
    "if final_set:\n",
    "    for record in final_set:\n",
    "        print(record)\n",
    "else:\n",
    "    print(final_set)"
   ]
  },
  {
   "attachments": {},
   "cell_type": "markdown",
   "metadata": {},
   "source": [
    "ну і для останнього прикладу:"
   ]
  },
  {
   "cell_type": "code",
   "execution_count": null,
   "metadata": {},
   "outputs": [],
   "source": [
    "operation_query = \"\"\"\n",
    "CREATE VIEW customer_order_total AS \n",
    "SELECT orders.order_id, orders.customer_id, \n",
    "       (SELECT SUM(order_details.quantity * order_details.unit_price) \n",
    "        FROM order_details \n",
    "        WHERE orders.order_id = order_details.order_id) AS order_total \n",
    "FROM orders;\n",
    "\"\"\"\n",
    "\n",
    "final_set = execute_query(connection, operation_query)"
   ]
  },
  {
   "attachments": {},
   "cell_type": "markdown",
   "metadata": {},
   "source": [
    "і дивимось на результат запиту до цьго представлення:"
   ]
  },
  {
   "cell_type": "code",
   "execution_count": null,
   "metadata": {},
   "outputs": [],
   "source": [
    "operation_query = \"\"\"\n",
    "SELECT customer_id, SUM(order_total) AS total \n",
    "FROM customer_order_total \n",
    "GROUP BY customer_id;\n",
    "\"\"\"\n",
    "\n",
    "final_set = execute_read_query(connection, operation_query)\n",
    "if final_set:\n",
    "    for record in final_set:\n",
    "        print(record)\n",
    "else:\n",
    "    print(final_set)"
   ]
  },
  {
   "attachments": {},
   "cell_type": "markdown",
   "metadata": {},
   "source": [
    "Давайте розберемо деякі опції створення VIEW.\n",
    "Якщо ви подивитесь на визначення в документації (на початку розділа), то ви побачите можливість опціонального викоритання наступних конструкцій:\n",
    "- ```[ OR REPLACE ]``` - можливо, в попередніх прикладах ви намагались запустити неодноразово блоки коду, де ми створювали в нашій БД VIEW. Якщо так - то ви повинні були отрати помилку (окрім першого запуску) з повідомленням ```DuplicateTable: relation \"customer_orders\" already exists```\n",
    "Це сталось тому що в перший раз представлення було створене, а потім ми намались створити повторно представлення з тим же самим ім'ям. СУБД бачить що об'єкт з таким ім'ям вже існує і повертає помилку. Якщо Вам необхідно перевизначити це представлення - використовуйте ON REPLACE. \n",
    "Команда ```CREATE OR REPLACE VIEW``` діє так само, але якщо подання з цим ім'ям вже існує, воно замінюється. Новий запит повинен видавати ті ж стовпці, що видавав запит, раніше визначений для цього подання (тобто стовпці з такими ж іменами повинні мати ті ж типи даних і слідувати в тому ж порядку), але може додати кілька нових стовпців в кінці списку. Обчислення, у яких формуються стовпці уявлення, може бути зовсім іншими.\n",
    "\n",
    "Наш з Вами перший приклад можна перевизначити так (я додав ще один атрибут - але це не обов'язково):"
   ]
  },
  {
   "cell_type": "code",
   "execution_count": null,
   "metadata": {},
   "outputs": [],
   "source": [
    "operation_query = \"\"\"\n",
    "CREATE OR REPLACE VIEW customer_orders AS \n",
    "SELECT orders.order_id, orders.customer_id, orders.order_date, orders.ship_address \n",
    "FROM orders;\n",
    "\"\"\"\n",
    "\n",
    "final_set = execute_query(connection, operation_query)"
   ]
  },
  {
   "cell_type": "code",
   "execution_count": null,
   "metadata": {},
   "outputs": [],
   "source": [
    "operation_query = \"\"\"\n",
    "SELECT * \n",
    "FROM customer_orders;\n",
    "\"\"\"\n",
    "\n",
    "final_set = execute_read_query(connection, operation_query)\n",
    "if final_set:\n",
    "    for record in final_set:\n",
    "        print(record)\n",
    "else:\n",
    "    print(final_set)"
   ]
  },
  {
   "attachments": {},
   "cell_type": "markdown",
   "metadata": {},
   "source": [
    "Зверніть увагу, що представлення накладають деякі обмеження, наприклад стосовно зміни:\n",
    "- для існуючого представлення можливо лише додавати нові стовпці\n",
    "    - неможливо видаляти існуючи стовпці\n",
    "    - неможливо змінювати імена стовпців\n",
    "    - неможливо замінити порядок слідування стовпців\n",
    "\n",
    "Але - ви можете змінити ім'я VIEW за допомогою синтаксису:\n",
    "```SQL\n",
    "ALTER VIEW  old_view_name RENAME TO new_view_name\n",
    "```\n",
    "\n",
    "Ну і нічого не заважає нам видаляти існуючи VIEW:\n",
    "\n",
    "```SQL\n",
    "DROP VIEW [IF EXIST] view_name\n",
    "```"
   ]
  },
  {
   "attachments": {},
   "cell_type": "markdown",
   "metadata": {},
   "source": [
    "Так як VIEW - це об'єкт бази даних - Ви можете їх побачити. Використовуючи свій клієнт підключений до БД (pgAdmin або DBeaver в нашому прикладі) в розділі \"Schemas.public.Views\"."
   ]
  },
  {
   "cell_type": "markdown",
   "metadata": {},
   "source": []
  },
  {
   "attachments": {},
   "cell_type": "markdown",
   "metadata": {},
   "source": [
    "- TEMPORARY або TEMP\n",
    "\n",
    "З такою вказівкою уявлення створюється як тимчасове. Тимчасові представлення (VIEW) автоматично видаляються наприкінці сеансу. Існуюче постійне уявлення з тим самим ім'ям не буде видно в поточному сеансі, доки існує тимчасове, проте до нього можна звернутися, доповнивши ім'я вказівкою схеми.\n",
    "\n",
    "Якщо у визначенні уявлення задіяні тимчасові таблиці, уявлення як і створюється як тимчасове (незалежно від присутності явного вказівки TEMPORARY)."
   ]
  },
  {
   "attachments": {},
   "cell_type": "markdown",
   "metadata": {},
   "source": [
    "##### Перейменування VIEW:\n",
    "\n",
    "```SQL\n",
    "\n",
    "ALTER VIEW old_name RENAME TO new_name\n",
    "\n",
    "```"
   ]
  },
  {
   "attachments": {},
   "cell_type": "markdown",
   "metadata": {},
   "source": [
    "##### Видалення VIEW:\n",
    "\n",
    "```SQL\n",
    "\n",
    "DROP VIEW [IF EXIST] view_name\n",
    "\n",
    "``"
   ]
  },
  {
   "attachments": {},
   "cell_type": "markdown",
   "metadata": {},
   "source": [
    "##### [Модифікація даних через VIEW](https://www.postgresql.org/docs/15/sql-createview.html)\n",
    "\n",
    "Прості уявлення стають змінними автоматично: система дозволить виконувати команди INSERT, UPDATE та DELETE з таким поданням так само, як і зі звичайною таблицею. Подання буде автоматично змінюватися, якщо воно задовольняють одночасно всім наступним умовам:\n",
    "\n",
    "    - Список FROM у запиті, що визначає поданні, повинен містити рівно один елемент, і це повинна бути таблиця або інше подання, що змінюється.\n",
    "\n",
    "    - Визначення подання не повинно містити пропозиції WITH, DISTINCT, GROUP BY, HAVING, LIMIT та OFFSET на верхньому рівні запиту.\n",
    "\n",
    "    - Визначення подання не повинно містити операції з безліччю (UNION, INTERSECT та EXCEPT) на верхньому рівні запиту.\n",
    "    \n",
    "    - Список вибірки у запиті не повинен містити агрегатні та віконні функції, а також функції, що повертають безліч.\n",
    "\n",
    "Автоматично оновлюване уявлення може містити як стовпці, що змінюються, так і не змінюються. Стовпець буде змінним, якщо це просте посилання змінюваний стовпець нижчележачого базового відносини; в іншому випадку цей стовпець буде доступний тільки для читання, і якщо команда INSERT або UPDATE спробує записати значення в нього, виникне помилка.\n",
    "\n",
    "Якщо представлення включає умову WHERE - то ця умова обмежує рядки, які можуть бути змінені командою UPDATE. Більше того - така команда може змінити рядок так, що він більше не буде доступний через це представлення. \n",
    "Ви можете побачити логіку в ціх обмеженнях - якщо єлемент (запис), який ви намагаєтесь модифікувати\\створити\\видалити в представленні може бути однозначно співставлений з базовими таблицями - то це зробити можливо.\n",
    "\n",
    "Більш складні представлення, які не задовольняють цим умовам, за замовченням доступні лише читання: система не дозволить виконати операції створення, зміни чи видалення рядків у такому представленні. Створити ефект зміненого уявлення для них можна, визначивши тригери INSTEAD OF, які перетворюватимуть запити на зміну даних у відповідні дії з іншими таблицями. Про тригери ми будемо розмовляти пізніше.\n",
    "\n",
    "Є досить багато можливостей і нюансів використання уявлень - прошу Вас за ними звернуся, при необхідності, в документацію"
   ]
  },
  {
   "attachments": {},
   "cell_type": "markdown",
   "metadata": {},
   "source": [
    "### Функції в PostgreSQL\n",
    "\n",
    "Функції - це також об'єкти БД, які можуть приймати аргументи і повертати результати.\n",
    "\n",
    "Зазвичай все, що ми можемо описати і зробити за допомогою функцій БД, ви можете зробити і з зовнішнього застосунку - наприклад з вашого застосунку який написаний на Python: отримаєте необхідні первинні дані і зробите з ними те, що Вам необхідно. Але у багатьох випадках створення функції на стороні БД буде кращім вибором. Причинами для цього може бути наступне:\n",
    "- функції (або зберігаємі процедури) компіюються і зберігаються на стороні БД, тобто їх виклик і виконання - може бути значно швидшим (\"дешевшим\") ніж зовнішня реалізація того ж функціонала\n",
    "- згідно з принципом [SRP (single responsibility principle)](https://uk.wikipedia.org/wiki/%D0%9F%D1%80%D0%B8%D0%BD%D1%86%D0%B8%D0%BF_%D1%94%D0%B4%D0%B8%D0%BD%D0%BE%D1%97_%D0%B2%D1%96%D0%B4%D0%BF%D0%BE%D0%B2%D1%96%D0%B4%D0%B0%D0%BB%D1%8C%D0%BD%D0%BE%D1%81%D1%82%D1%96) - те, що обробляє кортежі даних логічно зберігати ближче до даних\n",
    "- якщо різні клієнтські застосунки потребують одних і тих же дій з даними - логічно не писати в кожному із застосунків цю обробку, а написати її на рівні БД - і хай всі користуються\n",
    "- керування безпекою даних - ви можете за допомогою можливостей БД по керуванню доступом до об'єктів БД обмежити доступ до функцій тім користувачам\\групам і т.ін, коли вважаєте за необхідне\n",
    "- знеження кількості запитів і трафіку в мережі - через реалізацію первинної обробки на стороні сервера БД\n",
    "- розділення розробки на зони відповідальності: точно так, як розділяють frontend\\backend розробку, можна визначити розробку на стороні сервера БД - і при наявності грамотного архітектора і фахівця з БД ви отримаєте більш ефективний і стабільний результат - завдяки більш глибокій експертизі виконавців в своїх зонах відповідальності\n",
    "- модульність створення коду: якщо Вам у декількох ваших SQL-запитах потрібна одна і та ж дія з даними - розумно стоврити такий код один раз і перевикористовувати його\n"
   ]
  },
  {
   "attachments": {},
   "cell_type": "markdown",
   "metadata": {},
   "source": [
    "Ви вже зустрічали і використовували вбудовані функції PostgreSQL. Наприклад:\n",
    "- __AVG__ і __SUM__ - повертає середнє значення і суму для набора даних відповідно\n",
    "\n",
    "```SQL\n",
    "SELECT AVG(column_name) \n",
    "FROM table_name;\n",
    "\n",
    "SELECT SUM(column_name) \n",
    "FROM table_name;\n",
    "```\n",
    "\n",
    "- __COUNT__ - повертає кількість рядків\n",
    "\n",
    "```SQL\n",
    "SELECT COUNT(*) \n",
    "FROM table_name;\n",
    "```\n",
    "\n",
    "- __MAX__ і __MIN__ - повертає, відповідно, максимальне і мінімальне значення з набору даних\n",
    "\n",
    "```SQL\n",
    "SELECT MAX(column_name) \n",
    "FROM table_name;\n",
    "\n",
    "SELECT MIN(column_name) \n",
    "FROM table_name;\n",
    "```\n",
    "\n",
    "- __UPPER__ і __LOVER__ - перетворює, відповідно, символи в рядках в uppercase і lowercase\n",
    "\n",
    "```SQL\n",
    "SELECT UPPER(column_name) \n",
    "FROM table_name;\n",
    "\n",
    "SELECT LOWER(column_name) \n",
    "FROM table_name;\n",
    "```\n",
    "\n",
    "- __SUBSTRING__  - повертає субрядок\n",
    "\n",
    "```SQL\n",
    "SELECT SUBSTRING(column_name, start, length) \n",
    "FROM table_name;\n",
    "```\n",
    "\n",
    "- __TRIM__  - видаляє пробіли на початку і після рядка\n",
    "\n",
    "```SQL\n",
    "SELECT TRIM(column_name) \n",
    "FROM table_name;\n",
    "```\n",
    "\n",
    "- __NOW__  - повертає поточні час і дату\n",
    "\n",
    "```SQL\n",
    "SELECT NOW();\n",
    "```"
   ]
  },
  {
   "attachments": {},
   "cell_type": "markdown",
   "metadata": {},
   "source": [
    "Це далеко не повний перелік функцій і більш докладно ви можете [познайомитись з ними в документації.](https://postgrespro.ru/docs/postgresql/15/xfunc-internal)\n",
    "Але - вбудовані функції - це далеко не все. Ви, також, можете створювати самостійно свої функції в PostgreSQL.\n",
    "Для цього PostgreSQL надає Вам декілька мов програмування і надає досить зрозумілі можливості для підключення інших процедурних мов програмування.\n",
    "\n",
    "[У PostgreSQL ви можете писати власні функції за допомогою кількох мов, зокрема:](https://postgrespro.ru/docs/postgresql/15/xfunc)\n",
    "- [SQL: декларативна мова, яка використовується для керування та обробки даних у реляційних базах даних.](https://www.postgresql.org/docs/current/xfunc-sql.html#XFUNC-SQL-BASE-FUNCTIONS)\n",
    "- [PL/pgSQL: процедурна мова, спеціально розроблена для використання з PostgreSQL.](https://www.postgresql.org/docs/current/plpgsql.html)\n",
    "- [PL/Python: процедурна мова, яка використовує мову програмування Python.](https://www.postgresql.org/docs/current/plpython.html)\n",
    "- [PL/Tcl: процедурна мова, яка використовує мову сценаріїв Tcl.](https://www.postgresql.org/docs/current/pltcl.html)\n",
    "- [PL/Perl: процедурна мова, яка використовує мову програмування Perl.](https://www.postgresql.org/docs/current/plperl.html)\n",
    "- [C: мова програмування низького рівня.](https://www.postgresql.org/docs/current/xfunc-c.html)"
   ]
  },
  {
   "attachments": {},
   "cell_type": "markdown",
   "metadata": {},
   "source": [
    "Ми не будемо вивчати всі можливості створення і використання функцій в рамках нашого курсу. Ми познайомимось з SQL-функціями і зовсім небагато поговоримо про PL/pgSQL."
   ]
  },
  {
   "attachments": {},
   "cell_type": "markdown",
   "metadata": {},
   "source": [
    "Будь-яка функція в Postgres:\n",
    "- складається з набора тверджень і повертає результат останнього\n",
    "- можуть виконувати SELECT, INSERT, UPDATE, DELETE (CRUD-операції)\n",
    "- не можуть включати COMMIT, SAVEPOINT (TCL), VACUUM (utility)\n",
    "\n",
    "Стосовно останнього - в рамках нашого короткого курсу ми не вивчаємо лише базові теми і залишаємо поза обговоренням досить багато тем, які було б добре знати і розуміти) Одна з таких тем - транзакції. [Що це - читайте тут.](https://uk.wikipedia.org/wiki/%D0%A2%D1%80%D0%B0%D0%BD%D0%B7%D0%B0%D0%BA%D1%86%D1%96%D1%8F_(%D0%B1%D0%B0%D0%B7%D0%B8_%D0%B4%D0%B0%D0%BD%D0%B8%D1%85))\n",
    "\n",
    "Розумійте транзакції як блок операцій, який повинен бути виконаний лише в повному обсязі і коли він виконується то може блокувати якісь операції над деякими записами\\атрибутами і т.ін. Це робиться щоб, наприклад, уникнути конкуренції між різними процесами по доступу до даних, забезпечити цілсність даних при можливих збоях і т. ін. Тобто - якщо блок операцій, який може включати в собі декілька операцій, не зробила успішно їх всі - то вся операція (транзакція) з усіма окремими лпераціями в її складі - не відбувається.\n",
    "\n",
    "Так от остання твердження стосовно функцій - про транзакції в тому разі. Треба розуміти - що функції самі по собі - авторанзакційні. Тобто - якщо функція почала виконання і чомусь не завершила його коректно - то зміни, які були внесені - \"відкатяться\".\n"
   ]
  },
  {
   "attachments": {},
   "cell_type": "markdown",
   "metadata": {},
   "source": [
    "#### Синтаксис визначення функції\n",
    "\n",
    "[Докладніше про це можна прочитати тут](https://www.postgresql.org/docs/15/sql-createfunction.html), ми ж будемо використовувати більш спрощені і обмежені варіанти використання.\n",
    "\n",
    "```SQL\n",
    "CREATE FUNCTION name_of_func([arg_1, arg_2, ..., arg_N]) RETURNS type_of_data \n",
    "AS $$\n",
    "-- logic\n",
    "$$ LANGUAGE name_of_lang\n",
    "```\n",
    "\n",
    "Знак ```$$``` може бути замінений на лапки, але такий варіант здається мені більш зручним (лапки потрібно в тілі функції екранувати, що знижує читабельність).\n",
    "Можна використовувати ```CREATE OR REPLACE name_of_func ...``` - це буде діяти аналогічно подібній конструкції в представленнях і мати аналогічні обмеження."
   ]
  },
  {
   "attachments": {},
   "cell_type": "markdown",
   "metadata": {},
   "source": [
    "##### Функція без параметрів\n",
    "\n",
    "Можливо - це буде не найкорисніша функція, але вона повинна продемонструвати ідею:\n",
    "\n",
    "```SQL\n",
    "CREATE OR REPLACE FUNCTION order_count()\n",
    "RETURNS INTEGER AS $$\n",
    "    SELECT COUNT(*) FROM Orders;\n",
    "$$ LANGUAGE SQL;\n",
    "```\n",
    "\n",
    "і приклад виклику цієї функції:\n",
    "\n",
    "```SQL\n",
    "SELECT order_count();\n",
    "```"
   ]
  },
  {
   "attachments": {},
   "cell_type": "markdown",
   "metadata": {},
   "source": [
    "А тепер давайте вирішим більш реальне завдання: в нашій таблиці customers є атрибут customers.fax. Він не завжди має значення - тобто чатина рядків для цього атрибута має значення Null. Давайте напишемо функцію яка буде замінювати значення Null на запис \"do not use fax\". Пропроую не чіпати основну БД, а створити копію таблиці customers яку назвати tmp_customers:\n",
    "\n",
    "```SQL\n",
    "SELECT *\n",
    "INTO tmp_customers\n",
    "FROM customers;\n",
    "```\n",
    "\n",
    "Звісно ми можемо це зробитиза допомогою звичайного оператора UPDATE, щось на кшталт:\n",
    "```SQL\n",
    "UPDATE tmp_customers\n",
    "SET fax = \"do not use fax\"\n",
    "WHERE fax is Null\n",
    "```\n",
    "але давайте оформимо все це як функцію (можливо ми повинні надати для користувача БД саме функцію, а не можливість виконувати будь-які запити на таблицях).\n",
    "\n",
    "Створимо копію таблиці customers:"
   ]
  },
  {
   "cell_type": "code",
   "execution_count": null,
   "metadata": {},
   "outputs": [],
   "source": [
    "operation_query = \"\"\"\n",
    "SELECT *\n",
    "INTO tmp_customers\n",
    "FROM customers;\n",
    "\"\"\"\n",
    "\n",
    "final_set = execute_query(connection, operation_query)"
   ]
  },
  {
   "attachments": {},
   "cell_type": "markdown",
   "metadata": {},
   "source": [
    "Перевірте в БД наявність нової таблиці будь-яким зручним для вас методом і зверніть увагу на наявність в деяких рядках значення Null для атрибуту tmp_customers.fax\n",
    "\n",
    "Тепер - створимо функцію:"
   ]
  },
  {
   "cell_type": "code",
   "execution_count": 4,
   "metadata": {},
   "outputs": [
    {
     "name": "stdout",
     "output_type": "stream",
     "text": [
      "Query executed successfully\n"
     ]
    }
   ],
   "source": [
    "operation_query = \"\"\"\n",
    "CREATE OR REPLACE FUNCTION update_customer_fax() RETURNS void AS $$\n",
    "    UPDATE tmp_customers\n",
    "    SET fax = 'do not use fax'\n",
    "    WHERE fax is Null\n",
    "$$ LANGUAGE SQL;\n",
    "\"\"\"\n",
    "\n",
    "final_set = execute_query(connection, operation_query)"
   ]
  },
  {
   "attachments": {},
   "cell_type": "markdown",
   "metadata": {},
   "source": [
    "Тепер перейдіть в обраний Вами клієнт (pgAdmin або DBeaver), оновіть стан БД і подивіться - що у розділі \"Функції\" у Вас з'явився новий об'єкт. Зверніть увагу і на Вашу таблицю tmp_customers - вона не точно така як була до цього.\n",
    "Ну а тепер можна просто викликати функцію для конання:"
   ]
  },
  {
   "cell_type": "code",
   "execution_count": 5,
   "metadata": {},
   "outputs": [
    {
     "name": "stdout",
     "output_type": "stream",
     "text": [
      "Query executed successfully\n"
     ]
    }
   ],
   "source": [
    "operation_query = \"\"\"\n",
    "SELECT update_customer_fax();\n",
    "\"\"\"\n",
    "\n",
    "final_set = execute_query(connection, operation_query)"
   ]
  },
  {
   "attachments": {},
   "cell_type": "markdown",
   "metadata": {},
   "source": [
    "Тепер подивіться на модифіковану таблицю - зміни внесено."
   ]
  },
  {
   "attachments": {},
   "cell_type": "markdown",
   "metadata": {},
   "source": [
    "##### Функції з аргументами.\n",
    "\n",
    "\n",
    "Початок визначення функції (з документації):\n",
    "```SQL\n",
    "CREATE [ OR REPLACE ] FUNCTION\n",
    "    name ( [ [ argmode ] [ argname ] argtype [ { DEFAULT | = } default_expr ] [, ...] ] )\n",
    "    [ RETURNS rettype\n",
    "      | RETURNS TABLE ( column_name column_type [, ...] ) ]\n",
    "...\n",
    "...\n",
    "...\n",
    "```\n",
    "\n",
    "Розширимо знання про функції. Давайте розберемо можливість передачі аргументів. Аргументи бувають:\n",
    "argmode:\n",
    "- IN - вхідні аргументи. Це значення за замовченням. Тобто - якщо нічого не вказано - значить режим цього аргумента - вхідний\n",
    "- OUT - вихідний аргумент\n",
    "- INOUT - аргумент і вхідний і вихідний\n",
    "- VARIADIC - масив вхідних аргументів (ми не будемо розбирате в рамках курсу)\n",
    "argname:\n",
    "- необов'язкове ім'я для аргумента, яке може використовуватись в функції\n",
    "argtype:\n",
    "- обов'язковий параметр - тип аргумента\n",
    "DEFAULT - необов'язковий параметр, який описує значення аргумента якщо воно не було передано в функцію.\n",
    "rettype:\n",
    "- тип результату\n",
    "column_name column_type:\n",
    "- відповідно ім'я колонки і її тип - коли ви повертаєте не скалярний результат, а цілу таблицю"
   ]
  },
  {
   "attachments": {},
   "cell_type": "markdown",
   "metadata": {},
   "source": [
    "Є деякі правила використання та визначення аргументів функцій в PostgreSQL:\n",
    "\n",
    "- Аргументи мають бути визначені явно: у PostgreSQL усі аргументи функції мають бути визначені за допомогою типу даних. Це дозволяє базі даних перевіряти типи аргументів під час виклику функції.\n",
    "\n",
    "- Можна вказати значення за замовчуванням: якщо для аргументу вказано значення за замовчуванням, функція використовуватиме це значення, якщо аргумент не буде надано під час виклику функції.\n",
    "\n",
    "- Аргументи можуть мати різні режими: PostgreSQL підтримує різні режими для аргументів функції, зокрема IN, OUT та INOUT. Аргументи IN використовуються для передачі значень у функцію, аргументи OUT використовуються для повернення значень із функції, а аргументи INOUT використовуються для передачі значень у функцію та повернення значень із них.\n",
    "\n",
    "- Назви аргументів є необов’язковими: хоча найкращою практикою є надання описових імен для аргументів функції, назви аргументів є необов’язковими в PostgreSQL.\n",
    "\n",
    "- Перезавантаження функцій не підтримуються: на відміну від деяких інших систем баз даних, PostgreSQL не підтримує перевизначення існуючих функцій в будб-який спосіб. Це означає, що функції з однаковою назвою не можуть мати різні списки аргументів.\n",
    "\n",
    "Аргументи можна передавати за значенням або за посиланням: у PostgreSQL аргументи можна передавати за значенням або за посиланням. Коли аргумент передається за значенням, копія аргументу передається функції, тоді як коли аргумент передається за посиланням, вказівник на аргумент передається функції.\n",
    "\n",
    "Давайте перейдемо до практики і модифікуємо написну нами раніше функцію, яка замінювала для атрибута tmp.customers.fax значення Null на \"do not use fax\". Давайте перетворимо її на функцію, яка отримує значення яке треба замінити і значення на яке заміняти. Тобто - використовуючи цю функцію користувач зможе самостійно вирішувати який варіант значення має бути для, наприклад, випадку відсутності факсу.\n"
   ]
  },
  {
   "cell_type": "code",
   "execution_count": 2,
   "metadata": {},
   "outputs": [
    {
     "name": "stdout",
     "output_type": "stream",
     "text": [
      "Query executed successfully\n"
     ]
    }
   ],
   "source": [
    "operation_query = \"\"\"\n",
    "CREATE OR REPLACE FUNCTION update_customer_fax(old_value varchar(24), new_value varchar(24)) RETURNS void AS $$\n",
    "    UPDATE tmp_customers\n",
    "    SET fax = new_value\n",
    "    WHERE fax = old_value\n",
    "$$ LANGUAGE SQL;\n",
    "\"\"\"\n",
    "\n",
    "final_set = execute_query(connection, operation_query)"
   ]
  },
  {
   "attachments": {},
   "cell_type": "markdown",
   "metadata": {},
   "source": [
    "Тепер виконаємо створену функцію:"
   ]
  },
  {
   "cell_type": "code",
   "execution_count": 6,
   "metadata": {},
   "outputs": [
    {
     "name": "stdout",
     "output_type": "stream",
     "text": [
      "Query executed successfully\n"
     ]
    }
   ],
   "source": [
    "operation_query = \"\"\"\n",
    "SELECT update_customer_fax('do not use fax', 'no fax')\n",
    "\"\"\"\n",
    "\n",
    "final_set = execute_query(connection, operation_query)"
   ]
  },
  {
   "attachments": {},
   "cell_type": "markdown",
   "metadata": {},
   "source": [
    "Ну і давайте подивимось на результат:"
   ]
  },
  {
   "cell_type": "code",
   "execution_count": null,
   "metadata": {},
   "outputs": [],
   "source": [
    "operation_query = \"\"\"\n",
    "SELECT fax\n",
    "FROM tmp_customers;\n",
    "\"\"\"\n",
    "\n",
    "final_set = execute_read_query(connection, operation_query)\n",
    "if final_set:\n",
    "    for record in final_set:\n",
    "        print(record)\n",
    "else:\n",
    "    print(final_set)"
   ]
  },
  {
   "attachments": {},
   "cell_type": "markdown",
   "metadata": {},
   "source": [
    "Тепер давайте розберемо функцію з більш складною структурою. Наприклад - я ми б хотіли створити функцію яка буде отримувати на вхід рік і місяць і повертати рейтинг співробітників компанії по продажах за цей період.\n",
    "SQL запит для цього міг би мати наступний вигляд:\n",
    "```SQL\n",
    "SELECT \n",
    "  employees.employee_id, \n",
    "  employees.first_name, \n",
    "  employees.last_name , \n",
    "  SUM(customer_order_total.order_total) AS total_sales\n",
    "FROM \n",
    "  employees\n",
    "  JOIN orders ON employees.employee_id = orders.employee_id\n",
    "  join customer_order_total on customer_order_total.order_id = orders.order_id  \n",
    "WHERE \n",
    "  orders.order_date  BETWEEN '1997-01-01' AND '1997-07-01'\n",
    "GROUP BY \n",
    "  employees.employee_id, \n",
    "  employees.first_name, \n",
    "  employees.last_name\n",
    " order by total_sales desc;\n",
    "```\n",
    "Тут в аргументах BETWEEN необхідно підставляти відповідні дати (прошу задуматись - а чи вірно побудовани умоіи запиту? Як BETWEEN враховує границі?)"
   ]
  },
  {
   "attachments": {},
   "cell_type": "markdown",
   "metadata": {},
   "source": [
    "Але ми ускладнимо завдання - функція повинна отримувати в якості вхідних параметрів рік і номер місяця, а повертати відсортовану по продажах таблицю, яка включає дані по співробітнику - id, first_name, last_name, total_sales.\n",
    "\n",
    "Я пропоную Вам самостійно розібратись з функцією (описана нижче) і на наступній лекції сформулювати питання стосовно незрозумілих моментів.\n",
    "Для полегшення цієї роботи:\n",
    "- [створення функцій в документації описано тут](https://www.postgresql.org/docs/15/sql-createfunction.html)\n",
    "- [типи даних для опису часу описані тут (вам потрібно розібратись з типами data та interval)](https://www.postgresql.org/docs/15/datatype-datetime.html)\n",
    "- [використані функції для роботи з data та interva описані тут (використана функція make_date())](https://www.postgresql.org/docs/15/functions-datetime.html)"
   ]
  },
  {
   "cell_type": "code",
   "execution_count": 7,
   "metadata": {},
   "outputs": [
    {
     "name": "stdout",
     "output_type": "stream",
     "text": [
      "Query executed successfully\n"
     ]
    }
   ],
   "source": [
    "operation_query = \"\"\"\n",
    "CREATE OR REPLACE FUNCTION SalesResultsByMonth (\n",
    "  year_in INT, \n",
    "  month_in INT\n",
    ")\n",
    "RETURNS TABLE (employee_id int2, first_name varchar(10), last_name varchar(20), total_sales real)\n",
    "AS $$\n",
    "SELECT \n",
    "  employees.employee_id, \n",
    "  employees.first_name, \n",
    "  employees.last_name, \n",
    "\tSUM(customer_order_total.order_total) AS total_sales\n",
    "FROM \n",
    "  employees\n",
    "  JOIN orders ON employees.employee_id = orders.employee_id\n",
    "  join customer_order_total on customer_order_total.order_id = orders.order_id  \n",
    "WHERE \n",
    "  make_date(year_in, month_in, 1) <= orders.order_date and orders.order_date < make_date(year_in, month_in, 1) + interval '1 month'   \n",
    "GROUP BY \n",
    "  employees.employee_id, \n",
    "  employees.first_name, \n",
    "  employees.last_name\n",
    " order by total_sales desc\n",
    "$$ LANGUAGE SQL;\n",
    "\"\"\"\n",
    "\n",
    "final_set = execute_query(connection, operation_query)"
   ]
  },
  {
   "attachments": {},
   "cell_type": "markdown",
   "metadata": {},
   "source": [
    "Пропоную використати створену нами функцію. Давайте тільки спочатку з'ясуємо інтервал часу який описує наша БД - тобто коли рахунки виставлялись в має сенс оцінювати продавців.\n",
    "Зробимо простий запит:"
   ]
  },
  {
   "cell_type": "code",
   "execution_count": 8,
   "metadata": {},
   "outputs": [
    {
     "name": "stdout",
     "output_type": "stream",
     "text": [
      "(datetime.date(1996, 7, 4), datetime.date(1998, 5, 6))\n"
     ]
    }
   ],
   "source": [
    "operation_query = \"\"\"\n",
    "select min(order_date), max(order_date)\n",
    "from orders;\n",
    "\"\"\"\n",
    "\n",
    "final_set = execute_read_query(connection, operation_query)\n",
    "if final_set:\n",
    "    for record in final_set:\n",
    "        print(record)\n",
    "else:\n",
    "    print(final_set)"
   ]
  },
  {
   "attachments": {},
   "cell_type": "markdown",
   "metadata": {},
   "source": [
    "Тепер, коли ми розуміємо інтервал в якому доцільно оцінювати роботу менеджерів, давайте це зробимо:"
   ]
  },
  {
   "cell_type": "code",
   "execution_count": 9,
   "metadata": {},
   "outputs": [
    {
     "name": "stdout",
     "output_type": "stream",
     "text": [
      "('(1,Nancy,Davolio,6883.7)',)\n",
      "('(8,Laura,Callahan,5248)',)\n",
      "('(6,Michael,Suyama,4465.6)',)\n",
      "('(4,Margaret,Peacock,3575.1)',)\n",
      "('(2,Andrew,Fuller,2950.8)',)\n",
      "('(3,Janet,Leverling,1762)',)\n",
      "('(5,Steven,Buchanan,1420)',)\n",
      "('(7,Robert,King,1330.7999)',)\n"
     ]
    }
   ],
   "source": [
    "operation_query = \"\"\"\n",
    "select SalesResultsByMonth(1996, 9);\n",
    "\"\"\"\n",
    "\n",
    "final_set = execute_read_query(connection, operation_query)\n",
    "if final_set:\n",
    "    for record in final_set:\n",
    "        print(record)\n",
    "else:\n",
    "    print(final_set)"
   ]
  },
  {
   "attachments": {},
   "cell_type": "markdown",
   "metadata": {},
   "source": [
    "Зверніть увагу на формат відповіді і цьому випадку - ми отримали record.\n",
    "Це не завжди зручно. Якщо звернутсь до яункції як до таблиці (функція є повертає нам таблицю), то результат буде виглядати більш звично:"
   ]
  },
  {
   "cell_type": "code",
   "execution_count": 10,
   "metadata": {},
   "outputs": [
    {
     "name": "stdout",
     "output_type": "stream",
     "text": [
      "(3, 'Janet', 'Leverling', 18639.8)\n",
      "(1, 'Nancy', 'Davolio', 9168.25)\n",
      "(4, 'Margaret', 'Peacock', 7573.2)\n",
      "(7, 'Robert', 'King', 6041.25)\n",
      "(5, 'Steven', 'Buchanan', 5127.5)\n",
      "(8, 'Laura', 'Callahan', 4792.6)\n",
      "(2, 'Andrew', 'Fuller', 4589.6)\n",
      "(6, 'Michael', 'Suyama', 751.7)\n",
      "(9, 'Anne', 'Dodsworth', 139.8)\n"
     ]
    }
   ],
   "source": [
    "operation_query = \"\"\"\n",
    "select *\n",
    "from SalesResultsByMonth(1997, 5);\n",
    "\"\"\"\n",
    "\n",
    "final_set = execute_read_query(connection, operation_query)\n",
    "if final_set:\n",
    "    for record in final_set:\n",
    "        print(record)\n",
    "else:\n",
    "    print(final_set)"
   ]
  },
  {
   "attachments": {},
   "cell_type": "markdown",
   "metadata": {},
   "source": [
    "#### Процедурні мови\n",
    "\n",
    "До цього ми використовували чистий SQL для створення функцій\\зберігаємих процедур. Це може бути не завжди досить функціонально, тому, як ми вже говоримли раніше, PostgreSQL надає ще декілька процедурних мов.\n",
    "\n",
    "Існує багато думок стосовно того - яка мова буде більш ефективна. Розповсюджена думка - PL/pgSQL є процедурною мовою за замовчуванням у PostgreSQL і тісно інтегрована з системою баз даних. Він вважається швидким, ефективним і безпечним, що робить його хорошим вибором для багатьох програм. До того ж - на продуктивність функцій PL/Python, PL/Tcl, PL/Perl можуть вплинути накладні витрати на серіалізацію та десеріалізацію даних між базою даних та інтерпретатором Python/Tcl/Perl.\n",
    "\n",
    "В той же час існує значна кількість статей, де автори порінюють швидкість виконання різноманітних функцій написаних на різних мовах і приходять до висновків що їх функції, написані, наприклад, на PL/Python працюють в три-чотири рази швидше, ніж написані на PL/pgSQL. Про це, наприклад, [тут](https://stackoverflow.com/questions/4532229/any-difference-in-performance-compatibility-of-different-languages-in-postgresql), [тут](https://vk.com/@we_use_python-hranimye-procedury-na-python-v-postgresql) і [тут](https://habr.com/ru/company/postgrespro/blog/502254/).\n",
    "\n",
    "Загальний висновок може бути таким:\n",
    "- якщо Ваша функція переважно працює з БД - використовуйте SQL або PL/pgSQL - він інтегрований з БД, найнижчі витрати на запуск, серіалізацію і т. ін.\n",
    "- якщо Вам необхідно в межах функції зробити щось інше (обробка рядків, регулярні вирази, використання спеціалізованих бібліотек і т .ін.) - використовуйте мову прграмування яка це робить краще.\n",
    "\n",
    "Частіше Ви будете зустрічати функції, які написані на PL/pgSQL - тому ми поговоримо про нескладні приклади його використання. [Докладно про особливості цієї мови програмування можна познайомитись тут.](https://www.postgresql.org/docs/current/plpgsql.html)"
   ]
  },
  {
   "attachments": {},
   "cell_type": "markdown",
   "metadata": {},
   "source": [
    "##### Введення в PL/pgSQL\n",
    "\n",
    "[Докладна документація тут.](https://www.postgresql.org/docs/15/plpgsql.html)"
   ]
  },
  {
   "attachments": {},
   "cell_type": "markdown",
   "metadata": {},
   "source": [
    "Синтаксис визначення функції - дуже схожий на те, що ми бачили раніше:\n",
    "\n",
    "```SQL\n",
    "CREATE FUNCTION func_name([arg_1,arg_2, ..., arg_n]) RETURNS data_type AS $$\n",
    "BEGIN\n",
    "-- LOGIC\n",
    "END\n",
    "$$ LANGUAGE plpgsql;\n",
    "```\n",
    "\n",
    "\n",
    "Для чого нам взагалі може знадобитись PL/pgSQL?\n",
    "SQL - декларативна мова програмування, а PL/pgSQL надає нам процедурні можливості. \n",
    "Ми можемо виначати змінні, створювати цикли і інші розвинуті керуючі конструкції ('''IF ... THEN ... ELSIF ... THEN ... ELSE ... END IF''' - наприклад), створювати виключення - тобто використовувати повний набір інструментів звичних для будь-якої процедурної мови."
   ]
  },
  {
   "attachments": {},
   "cell_type": "markdown",
   "metadata": {},
   "source": [
    "##### Функції які повертають скалярне значення.\n",
    "\n",
    "Ми подивимось на прості функціх - для знайомства з синтаксисом.\n",
    "Наприклад - функція яка повертае загальну кількість товарів на складі в штуках:"
   ]
  },
  {
   "cell_type": "code",
   "execution_count": 11,
   "metadata": {},
   "outputs": [
    {
     "name": "stdout",
     "output_type": "stream",
     "text": [
      "Query executed successfully\n"
     ]
    }
   ],
   "source": [
    "operation_query = \"\"\"\n",
    "CREATE OR REPLACE FUNCTION get_number_of_goods() RETURNS int AS $$\n",
    "BEGIN\n",
    "    RETURN SUM(units_in_stock)\n",
    "    FROM products;\n",
    "END\n",
    "$$ LANGUAGE plpgsql\n",
    "\"\"\"\n",
    "\n",
    "final_set = execute_query(connection, operation_query)"
   ]
  },
  {
   "attachments": {},
   "cell_type": "markdown",
   "metadata": {},
   "source": [
    "Зверніть увагу, що в тілі функції ми використали замість SELECT -> RETURN.\n",
    "\n",
    "Тепер перевіримо роботу:"
   ]
  },
  {
   "cell_type": "code",
   "execution_count": 12,
   "metadata": {},
   "outputs": [
    {
     "name": "stdout",
     "output_type": "stream",
     "text": [
      "(3119,)\n"
     ]
    }
   ],
   "source": [
    "operation_query = \"\"\"\n",
    "select get_number_of_goods()\n",
    "\"\"\"\n",
    "\n",
    "final_set = execute_read_query(connection, operation_query)\n",
    "if final_set:\n",
    "    for record in final_set:\n",
    "        print(record)\n",
    "else:\n",
    "    print(final_set)"
   ]
  },
  {
   "attachments": {},
   "cell_type": "markdown",
   "metadata": {},
   "source": [
    "Давайте додамо вивод декількох параметрів. Пам'ятаєте - ми робили запит щоб дізнатись про диапазон дат роботи компанії який відображено в БД? Тобто найменшу і найбльшу дати виписування рахунків. Звертаю Вашу увагу, що кожен окремий оператор закінчується крапкою з комою.\n",
    "Давайте зробимо для цього функцію:"
   ]
  },
  {
   "cell_type": "code",
   "execution_count": 14,
   "metadata": {},
   "outputs": [
    {
     "name": "stdout",
     "output_type": "stream",
     "text": [
      "Query executed successfully\n"
     ]
    }
   ],
   "source": [
    "operation_query = \"\"\"\n",
    "CREATE OR REPLACE FUNCTION get_start_stop_work_dates(OUT start_data DATE, OUT stop_data DATE) AS $$\n",
    "BEGIN\n",
    "    SELECT MIN(orders.order_date), MAX(orders.order_date)\n",
    "    INTO start_data, stop_data\n",
    "    FROM orders;\n",
    "END\n",
    "$$ LANGUAGE plpgsql\n",
    "\"\"\"\n",
    "\n",
    "final_set = execute_query(connection, operation_query)"
   ]
  },
  {
   "attachments": {},
   "cell_type": "markdown",
   "metadata": {},
   "source": [
    "Перевіримо:"
   ]
  },
  {
   "cell_type": "code",
   "execution_count": 15,
   "metadata": {},
   "outputs": [
    {
     "name": "stdout",
     "output_type": "stream",
     "text": [
      "('(1996-07-04,1998-05-06)',)\n"
     ]
    }
   ],
   "source": [
    "operation_query = \"\"\"\n",
    "select get_start_stop_work_dates();\n",
    "\"\"\"\n",
    "\n",
    "final_set = execute_read_query(connection, operation_query)\n",
    "if final_set:\n",
    "    for record in final_set:\n",
    "        print(record)\n",
    "else:\n",
    "    print(final_set)"
   ]
  },
  {
   "attachments": {},
   "cell_type": "markdown",
   "metadata": {},
   "source": [
    "Як Ви бачите - ми отримуємо на самий \"зручний\" вид результату. Це тип RECORD.\n",
    "Для того щоб отримати більш звичний результат - трохи перепишемо запит:"
   ]
  },
  {
   "cell_type": "code",
   "execution_count": 16,
   "metadata": {},
   "outputs": [
    {
     "name": "stdout",
     "output_type": "stream",
     "text": [
      "(datetime.date(1996, 7, 4), datetime.date(1998, 5, 6))\n"
     ]
    }
   ],
   "source": [
    "operation_query = \"\"\"\n",
    "select *\n",
    "from get_start_stop_work_dates();\n",
    "\"\"\"\n",
    "\n",
    "final_set = execute_read_query(connection, operation_query)\n",
    "if final_set:\n",
    "    for record in final_set:\n",
    "        print(record)\n",
    "else:\n",
    "    print(final_set)"
   ]
  },
  {
   "attachments": {},
   "cell_type": "markdown",
   "metadata": {},
   "source": [
    "В якості тренування давайте напишемо функцію яка має вхідні і вихідні параметри. Наприклад - отримує на вхід рядок і два інших рядки - субрядок який треба знайти в основному рядку в субрядок на який необхідно замінити всі знайдені входження.\n",
    "[Опис синтаксису функції regexp_replace можна знайти тут.](https://www.postgresql.org/docs/15/functions-matching.html)\n",
    "[Опис синтаксису функції concat() можна знайти тут](https://www.postgresql.org/docs/15/functions-string.html)\n",
    "Ну і згадайте синтаксис регулярних виразів."
   ]
  },
  {
   "cell_type": "code",
   "execution_count": 29,
   "metadata": {},
   "outputs": [
    {
     "name": "stdout",
     "output_type": "stream",
     "text": [
      "Query executed successfully\n"
     ]
    }
   ],
   "source": [
    "operation_query = \"\"\"\n",
    "CREATE OR REPLACE FUNCTION replace_substring(string CHARACTER, sub_str_old CHARACTER, sub_str_new CHARACTER, OUT result_string CHARACTER) AS $$\n",
    "BEGIN\n",
    "    result_string = regexp_replace(string, concat('(', sub_str_old, ')', '+'), sub_str_new, 'g');\n",
    "END\n",
    "$$ LANGUAGE plpgsql\n",
    "\"\"\"\n",
    "\n",
    "final_set = execute_query(connection, operation_query)"
   ]
  },
  {
   "attachments": {},
   "cell_type": "markdown",
   "metadata": {},
   "source": [
    "Пробуєм виконати:"
   ]
  },
  {
   "cell_type": "code",
   "execution_count": 30,
   "metadata": {},
   "outputs": [
    {
     "name": "stdout",
     "output_type": "stream",
     "text": [
      "('asdf?hhjg?trem?hhgfd?j',)\n"
     ]
    }
   ],
   "source": [
    "operation_query = \"\"\"\n",
    "select *\n",
    "from replace_substring('asdf-hhjg-trem---hhgfd-j', '-', '?');\n",
    "\"\"\"\n",
    "\n",
    "final_set = execute_read_query(connection, operation_query)\n",
    "if final_set:\n",
    "    for record in final_set:\n",
    "        print(record)\n",
    "else:\n",
    "    print(final_set)"
   ]
  },
  {
   "attachments": {},
   "cell_type": "markdown",
   "metadata": {},
   "source": [
    "Коли необхідно повернути декілька записів необхідно використовувати конструкцію RETURN QUERY.\n",
    "Давайте напишемо функцію яка буде повертати всі товари в якійсь категрії товарів - в залежності від переданого в функцію значення category_id"
   ]
  },
  {
   "cell_type": "code",
   "execution_count": 32,
   "metadata": {},
   "outputs": [
    {
     "name": "stdout",
     "output_type": "stream",
     "text": [
      "Query executed successfully\n"
     ]
    }
   ],
   "source": [
    "operation_query = \"\"\"\n",
    "CREATE OR REPLACE FUNCTION get_all_products_of_category(category_id int) RETURNS SETOF products AS $$\n",
    "BEGIN\n",
    "    RETURN QUERY\n",
    "    SELECT * \n",
    "    FROM products\n",
    "    WHERE products.category_id = get_all_products_of_category.category_id;\n",
    "END\n",
    "$$ LANGUAGE plpgsql\n",
    "\"\"\"\n",
    "\n",
    "final_set = execute_query(connection, operation_query)"
   ]
  },
  {
   "cell_type": "code",
   "execution_count": 33,
   "metadata": {},
   "outputs": [
    {
     "name": "stdout",
     "output_type": "stream",
     "text": [
      "(3, 'Aniseed Syrup', 1, 2, '12 - 550 ml bottles', 10.0, 13, 70, 25, 0)\n",
      "(4, \"Chef Anton's Cajun Seasoning\", 2, 2, '48 - 6 oz jars', 22.0, 53, 0, 0, 0)\n",
      "(5, \"Chef Anton's Gumbo Mix\", 2, 2, '36 boxes', 21.35, 0, 0, 0, 1)\n",
      "(6, \"Grandma's Boysenberry Spread\", 3, 2, '12 - 8 oz jars', 25.0, 120, 0, 25, 0)\n",
      "(8, 'Northwoods Cranberry Sauce', 3, 2, '12 - 12 oz jars', 40.0, 6, 0, 0, 0)\n",
      "(15, 'Genen Shouyu', 6, 2, '24 - 250 ml bottles', 13.0, 39, 0, 5, 0)\n",
      "(44, 'Gula Malacca', 20, 2, '20 - 2 kg bags', 19.45, 27, 0, 15, 0)\n",
      "(61, \"Sirop d'érable\", 29, 2, '24 - 500 ml bottles', 28.5, 113, 0, 25, 0)\n",
      "(63, 'Vegie-spread', 7, 2, '15 - 625 g jars', 43.9, 24, 0, 5, 0)\n",
      "(65, 'Louisiana Fiery Hot Pepper Sauce', 2, 2, '32 - 8 oz bottles', 21.05, 76, 0, 0, 0)\n",
      "(66, 'Louisiana Hot Spiced Okra', 2, 2, '24 - 8 oz jars', 17.0, 4, 100, 20, 0)\n",
      "(77, 'Original Frankfurter grüne Soße', 12, 2, '12 boxes', 13.0, 32, 0, 15, 0)\n"
     ]
    }
   ],
   "source": [
    "operation_query = \"\"\"\n",
    "select *\n",
    "from get_all_products_of_category(2);\n",
    "\"\"\"\n",
    "\n",
    "final_set = execute_read_query(connection, operation_query)\n",
    "if final_set:\n",
    "    for record in final_set:\n",
    "        print(record)\n",
    "else:\n",
    "    print(final_set)"
   ]
  },
  {
   "attachments": {},
   "cell_type": "markdown",
   "metadata": {},
   "source": [
    "##### Декларування змінних.\n",
    "\n",
    "Для нас, як для людей вивчаючих python з його динамічною типізацією декларування змінних до їх використання може здаватися незручним і дещо громіздким. Але - це абсолютно звичайна дія для типізованих мов і, до речі, це дає змогу коду працювати швидше).\n",
    "Як би там не було - PL/pgSQL вимагає декларувати змінні і їх тип до використання.\n",
    "[Синтаксис докладно описаний тут.](https://www.postgresql.org/docs/15/plpgsql-declarations.html)\n",
    "\n",
    "\n",
    "```SQL\n",
    "CREATE FUNCTION func_name([arg_1,arg_2, ..., arg_n]) RETURNS data_type AS $$\n",
    "DECLARE\n",
    "    variable type_of_variable;\n",
    "BEGIN\n",
    "-- LOGIC\n",
    "END\n",
    "$$ LANGUAGE plpgsql;\n",
    "```\n",
    "\n",
    "Коли Вам необхідно в середині функції використовувати якісь змінні - їх треба описати, що і робиться в розділі DECLARE.\n",
    "Ми з Вами раніше використовували деякі змінні в тілі функції, але ми їх описували в заявах вхідних і вихідних параметрів - тому PL/pgSQL вже мав інформацію про імена і типи.\n"
   ]
  },
  {
   "attachments": {},
   "cell_type": "markdown",
   "metadata": {},
   "source": [
    "##### Керуючі конструкції\n",
    "\n",
    "\n",
    "Керуюча конструкция IF:\n",
    "\n",
    "```SQL\n",
    "IF expression THEN\n",
    "    -- LOGIC\n",
    "ELSIF expression THEN\n",
    "    -- LOGIC\n",
    "ELSIF expression THEN\n",
    "    -- LOGIC\n",
    "ELSE\n",
    "    -- LOGIC\n",
    "END IF;\n",
    "```\n",
    "Замість ELSIF можливо використовувати ELSEIF.\n",
    "\n",
    "Для практики пропоную переписати логіку нашої раніше написаної функції для заміни субрядків в рядку. Давайте введемо умову - якшо довжина субрядка який необхідно шукати і заміняти (sub_str_old) по довжині більше ніж рядок в якому необхідно шукати входження - то ми в якості результату повертаємо sub_str_old."
   ]
  },
  {
   "cell_type": "code",
   "execution_count": 43,
   "metadata": {},
   "outputs": [
    {
     "name": "stdout",
     "output_type": "stream",
     "text": [
      "Query executed successfully\n"
     ]
    }
   ],
   "source": [
    "operation_query = \"\"\"\n",
    "CREATE OR REPLACE FUNCTION replace_substring(string CHARACTER, sub_str_old CHARACTER, sub_str_new CHARACTER, OUT result_string CHARACTER) AS $$\n",
    "BEGIN\n",
    "    IF length(sub_str_old::text) > length(string::text) THEN\n",
    "        result_string := sub_str_old;\n",
    "    ELSE\n",
    "        result_string := regexp_replace(string, concat('(', sub_str_old, ')', '{1}'), sub_str_new, 'g');\n",
    "    END IF;\n",
    "END\n",
    "$$ LANGUAGE plpgsql\n",
    "\"\"\"\n",
    "\n",
    "final_set = execute_query(connection, operation_query)"
   ]
  },
  {
   "attachments": {},
   "cell_type": "markdown",
   "metadata": {},
   "source": [
    "Зверніть увагу на зміну у формуванні регулярного виразу і як це відображається на роботі функції.\n",
    "Дивимось на результат"
   ]
  },
  {
   "cell_type": "code",
   "execution_count": 44,
   "metadata": {},
   "outputs": [
    {
     "name": "stdout",
     "output_type": "stream",
     "text": [
      "('+(38).050.222.33.44',)\n"
     ]
    }
   ],
   "source": [
    "operation_query = \"\"\"\n",
    "select *\n",
    "from replace_substring('+(38)-050-222-33-44', '-', '.');\n",
    "\"\"\"\n",
    "\n",
    "final_set = execute_read_query(connection, operation_query)\n",
    "if final_set:\n",
    "    for record in final_set:\n",
    "        print(record)\n",
    "else:\n",
    "    print(final_set)"
   ]
  },
  {
   "attachments": {},
   "cell_type": "markdown",
   "metadata": {},
   "source": [
    "Цикл WHILE\n",
    "\n",
    "Тіло цикла виконується пока expression is True. Синтаксис:\n",
    "```SQL\n",
    "WHILE expression\n",
    "LOOP\n",
    "    -- LOGIC\n",
    "END LOOP;\n",
    "```\n",
    "Ще одна форма (цикл закінчується коли expression is True):\n",
    "\n",
    "```SQL\n",
    "LOOP\n",
    "    EXIT WHEN expression\n",
    "    -- LOGIC\n",
    "END LOOP;\n",
    "```\n",
    "Цикл FOR:\n",
    "\n",
    "```SQL\n",
    "FOR counter IN [REVERSE] start..stop [BY step]\n",
    "LOOP\n",
    "    -- LOGIC\n",
    "END LOOP;\n",
    "```\n",
    "Все досить просто\n",
    "- counter - змінна цикла, яка на кожному кроці приймає значення з диапазону start .. stop з необов'язковим параметром step\n",
    "REVERSE - якщо є, то вказує що треба не збільшувати, а зменшувати counter на кожній ітерації.\n",
    "\n",
    "Так як і в Python є оператор безумовного закінчення ітерації і переходу до наступної - ```CONTINUE WHEN expression```\n",
    "Для того щоб перервати цикл і вийти за його межі у Python ми використовували оператор breack.\n",
    "PL/pgSQL в цьому випадку використовує оператор EXIT.\n"
   ]
  },
  {
   "attachments": {},
   "cell_type": "markdown",
   "metadata": {},
   "source": [
    "Прлпоную написати функцію, яка буде повертати нам числа Фібоначі - класичне завдання для циклів)"
   ]
  },
  {
   "cell_type": "code",
   "execution_count": 45,
   "metadata": {},
   "outputs": [
    {
     "name": "stdout",
     "output_type": "stream",
     "text": [
      "Query executed successfully\n"
     ]
    }
   ],
   "source": [
    "operation_query = \"\"\"\n",
    "CREATE OR REPLACE FUNCTION fibo(n int) RETURNS int AS $$\n",
    "DECLARE\n",
    "\tcounter int := 0;\n",
    "\ti int = 0;\n",
    "\tj int = 1;\n",
    "BEGIN\n",
    "\tIF n < i THEN\n",
    "\t\tRETURN 0;\n",
    "\tEND IF;\n",
    "\t\n",
    "\tWHILE counter < n\n",
    "\tLOOP\n",
    "\t\tcounter = counter + 1;\n",
    "\t\tselect j, i+j into i, j;\n",
    "\tEND LOOP;\n",
    "\tRETURN i;\n",
    "END;\n",
    "$$ LANGUAGE plpgsql\n",
    "\"\"\"\n",
    "\n",
    "final_set = execute_query(connection, operation_query)\n"
   ]
  }
 ],
 "metadata": {
  "kernelspec": {
   "display_name": ".venv",
   "language": "python",
   "name": "python3"
  },
  "language_info": {
   "codemirror_mode": {
    "name": "ipython",
    "version": 3
   },
   "file_extension": ".py",
   "mimetype": "text/x-python",
   "name": "python",
   "nbconvert_exporter": "python",
   "pygments_lexer": "ipython3",
   "version": "3.10.8"
  },
  "vscode": {
   "interpreter": {
    "hash": "9638ab908a3d057c39366469a2f6e98655520ee10d4ea313cd4911d69c3372da"
   }
  }
 },
 "nbformat": 4,
 "nbformat_minor": 0
}
