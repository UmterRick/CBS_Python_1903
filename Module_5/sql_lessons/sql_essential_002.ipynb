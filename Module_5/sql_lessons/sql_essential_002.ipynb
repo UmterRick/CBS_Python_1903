{
 "cells": [
  {
   "cell_type": "raw",
   "metadata": {
    "collapsed": false,
    "pycharm": {
     "name": ""
    }
   },
   "source": [
    "# Введення в реляційні бази даних.\n",
    "# PostgreSQL + Python\n",
    "\n",
    "---\n",
    "\n",
    "## лекція 2: основні типи даних PostgreSQL і прості запити"
   ]
  },
  {
   "cell_type": "code",
   "execution_count": null,
   "metadata": {
    "collapsed": true,
    "pycharm": {
     "name": "#%%\n"
    }
   },
   "outputs": [],
   "source": [
    "print(\"PostgreSQL + Python: lesson 2. Main data types of PostgreSQL and simply query.\")"
   ]
  },
  {
   "cell_type": "markdown",
   "metadata": {
    "collapsed": false,
    "pycharm": {
     "name": "#%% md\n"
    }
   },
   "source": [
    "До початку роботи з матеріалом лекції прошу Вас впевнитись що контейнери з PostgreSQL і pgAdmin - запущені і працюють, і обраний Вами клієнтський застосунок для взаємодії з БД (DBeaver|pgAdmin) підключений і працює.\n",
    "\n",
    "До того ж нам необхідно імпортувати створені на попередній лекції функції для роботи з БД з нашого коду - для цього вони перенесені в модуль __python_postgrsql.py__. Зробимо це:"
   ]
  },
  {
   "cell_type": "code",
   "execution_count": null,
   "metadata": {
    "collapsed": false,
    "pycharm": {
     "name": "#%%\n"
    }
   },
   "outputs": [],
   "source": [
    "from python_postgresql import execute_query, execute_read_query, connection"
   ]
  },
  {
   "cell_type": "markdown",
   "metadata": {
    "collapsed": false,
    "pycharm": {
     "name": "#%% md\n"
    }
   },
   "source": [
    "Тепер ми без перешкод можемо перейти до вивчення матеріалу."
   ]
  },
  {
   "attachments": {},
   "cell_type": "markdown",
   "metadata": {
    "collapsed": false,
    "pycharm": {
     "name": "#%% md\n"
    }
   },
   "source": [
    "### Основні типи даних PostgreSQL\n",
    "\n",
    "На відмінність від SQLite - з якою ми знайомились раніше - PostgreSQL підтримує значно більший набір типів даних. Це дозволяє оптимально підбирати типи під існуючи задачі і перекласти на рівень БД контроль форматів дани. Більше того - PostgreSQL надає можливість створоювати користувацькі типи даних використовуючи команду CREATE TYPE ([докладно тут](https://www.postgresql.org/docs/14/sql-createtype.html)).\n",
    "Ми не будемо докладно вивчати можливість створення своїх типів даних в рамках нашого курсу, а стисло пройдемось по основних вбудованих типах даних які ми будемо використовувати протягом курск і їх особливостях. Значна частина типів даних залишиться за межами нашого короткого курсу, при необхідності ви можете докладно [познайомитись з ними тут](https://www.postgresql.org/docs/14/datatype.html).\n",
    "\n",
    "1. __Числові__\n",
    "\n",
    "    Ім'я  | Розмір\t| Опис | Діапазон\n",
    "    ------|---------|------|----------\n",
    "    smallint | 2 байти | ціле в невеликому діапазоні | -32768 .. +32767\n",
    "    integer | 4 байти | типовий вибір для цілих чисел | -2147483648.. +2147483647\n",
    "    bigint | 8 байт  | ціле у великому діапазоні | -9223372036854775808 .. 9223372036854775807\n",
    "    decimal | змінний\t| дійсне число із зазначеною точністю | до 131072 цифр до десяткової точки і до 16383 - після\n",
    "    numeric | змінний | дійсне число із зазначеною точністю | до 131072 цифр до десяткової точки і до 16383 - після\n",
    "    real | 4 байти | дійсне число зі змінною точністю | точність у межах 6 десяткових цифр\n",
    "    double precision | 8 байт | дійсне число зі змінною точністю | точність у межах 15 десяткових цифр\n",
    "    smallserial | 2 байти | невелике ціле з автозбільшенням | 1 .. 32767\n",
    "    serial | 4 байти | ціле з автозбільшенням | 1 .. 2147483647\n",
    "    bigserial | 8 байт | велике ціле з автозбільшенням | 1 .. 9223372036854775807\n",
    "\n",
    "\n",
    "        1. [Цілі числа - smallint, integer, bigint](https://www.postgresql.org/docs/14/datatype-numeric.html#DATATYPE-INT)\n",
    "            Типи зберігають цілі числа - тобто числа без дробової частини, що мають різні допустимі діапазони. Спроба зберегти значення, що виходить за межі діапазону, призведе до помилки.\n",
    "        2. [Числа з довільною точністю - numeric](https://www.postgresql.org/docs/14/datatype-numeric.html#DATATYPE-NUMERIC-DECIMAL).\n",
    "            Тип numeric дозволяє зберігати цифри з дуже великою кількістю цифр. Він особливо рекомендується для зберігання грошових сум та інших величин, де важлива точність. Обчислення з типом numeric дають точні результати, де це можливо, наприклад, при додаванні, відніманні та множенні. Однак операції зі значеннями numeric виконуються набагато повільніше, ніж з цілими числами або з типами плаваючою точкою, описаними далі.\n",
    "            Далі ми використовуємо такі терміни: scale значення numeric визначає кількість десяткових цифр у дрібній частині, праворуч від десяткової точки, а precision — загальна кількість значущих цифр у числі, тобто кількість цифр з обох боків десяткової точки. Наприклад, число 23.5141 має  precision 6 та scale 4. Цілочисленні значення можна вважати числами з масштабом 0.\n",
    "\n",
    "            Для стовпчика типу numeric можна налаштувати максимальну precision і максимальний scale. Стовпець типу numeric оголошується так:\n",
    "\n",
    "   ```SQL\n",
    "   NUMERIC(precision, scale)\n",
    "\n",
    "   NUMERIC(precision)      # scale=0\n",
    "\n",
    "   NUMERIC                 # створює стовпець типу «необмежену кількість» , у якому можна зберігати числові значення\n",
    "                           # будь-якої довжини межі, обумовленого реалізацією. У стовпчику цього типу вхідні значення не\n",
    "                           # будуть наводитися до будь-якого масштабу, тоді як у стовпцях numericіз явно заданим масштабом\n",
    "                           # значення підганяють під цей масштаб\n",
    "   ```\n",
    "\n",
    "        3. [Числа з плаваючою комою](https://www.postgresql.org/docs/14/datatype-numeric.html#DATATYPE-FLOAT).\n",
    "            Типи даних real,  double precision зберігають наближені числові значення зі змінною точністю. Відзначимо лише таке\n",
    "                - якщо вам потрібна точність при зберіганні та обчисленнях (наприклад, для грошових сум), використовуйте натомість тип numeric.\n",
    "                - якщо ви хочете виконувати з цими типами складні обчислення, що мають велику важливість, ретельно вивчіть реалізацію операцій у вашому середовищі і особливо поведінку в крайніх випадках (нескінченність, антипереповнення).\n",
    "                - перевірка рівності двох чисел з плаваючою точкою може завжди давати очікуваний результат.\n",
    "        4. [Послідовні типи](https://www.postgresql.org/docs/14/datatype-numeric.html#DATATYPE-SERIAL).\n",
    "            Ці типи даних - smallserial, serial, bigserial - не зовсім типи - це зручний спосіб створити стовпці з унікальними ідентифікаторами. Простіше їх розуміти як створення генератора послідовності, який на кожному кроці повертає нове значення (навіть якщо в результаті, за якоїсь причини, рядок в таблиці почав створюватись і не створився (наприклад - відкат транзакції) то число яке було повернуто для цього рядка при намаганні його створити вже ніколи не буде використано). Тобто - генератор віддає значення один раз і більше ніколи.\n",
    "\n",
    "2. __Символьні типи__ ([докладно тут](https://www.postgresql.org/docs/14/datatype-character.html)).\n",
    "\n",
    "    Ім'я | Опис\n",
    "    -----|-----\n",
    "    character varying(n),varchar(n) | рядок обмеженої змінної довжини\n",
    "    character(n), char(n) | рядок фіксованої довжини, доповнений пробілами\n",
    "    text | рядок необмеженої змінної довжини\n",
    "\n",
    "    SQL визначає декілька основних символьних типів:\n",
    "    - character varying(n) (синонім - varchar(n)) - текстовий рядок довжиною до __n__ символів (саме символів, не байт!) Спроба зберегти в стовпці такого типу довший рядок приведе до помилки, якщо всі зайві символи не є пробілами (тоді вони будуть усічені до максимально допустимої довжини). (Це дещо дивний виняток продиктований стандартом SQL). Якщо довжина рядка, що зберігається, виявляється меншою за оголошену - просто збереже короткий рядок.\n",
    "    - character(n) (синонім char(n)) - все те ж саме що і попередній тип, але зберігається завжди рівно __n__ символів - якщо ввести менше то доповнюється пробілами.\n",
    "\n",
    "    Якщо задано __n__, воно має бути більше нуля і менше або дорівнює 10 485 760. Якщо ж довжина не вказується для типа, цей тип прийматиме рядки будь-якого розміру.\n",
    "\n",
    "    Крім цього, PostgreSQL пропонує тип text, у якому можна зберігати рядки довільної довжини. Хоча тип text не описаний у стандарті SQL, його підтримують деякі інші СУБД SQL.\n",
    "\n",
    "3. __Типи дати\\часу__\n",
    "    PostgreSQL підтримує повний набір типів дати та часу SQL. Операції, можливі з цими типами даних, [описані тут](https://www.postgresql.org/docs/14/functions-datetime.html). Усі дати вважаються за Григоріанським календарем, навіть для часу до його введення.\n",
    "\n",
    "    Ім'я | Розмір  | Опис | Найменше значення | Найбільше значення | Точність\n",
    "    -----|---------|------|-------------------|--------------------|----------\n",
    "    timestamp [ (p) ] [ without time zone ] | 8 байт  | дата та час (без часового поясу) | 4713 р. до н. е. | 294276 н. е. | 1 мікросекунда\n",
    "    timestamp [ (p) ] with time zone | 8 байт  | дата та час (з часовим поясом) | 4713 р. до н. е. | 294276 н. е. | 1 мікросекунда\n",
    "    date | 4 байти | дата (без доби) | 4713 р. до н. е. | 5874897 н. е. | 1 день\n",
    "    time [ (p) ] [ without time zone ] | 8 байт  | час доби (без дати) | 00:00:00 | 24:00:00 | 1 мікросекунда\n",
    "    time [ (p) ] with time zone | 12 байт | час дня (без дати), з часовим поясом | 00:00:00+1559 | 24:00:00-1559 | 1 мікросекунда\n",
    "    interval [ поля ] [ (p) ] | 16 байт | часовий інтервал | -178000000 років | 178000000 років | 1 мікросекунд\n",
    "\n",
    "\n",
    "4. __Логічні типи__\n",
    "    У PostgreSQL є стандартний SQL - тип boolean. Тип boolean може мати такі стани: \"true\", \"false\" і третій стан, \"unknown\", яке представляється SQL -значенням NULL.\n",
    "\n",
    "    Ім'я | Розмір | Опис\n",
    "    -----|--------|-----\n",
    "    boolean | 1 байт | стан: true чи false\n"
   ]
  },
  {
   "cell_type": "markdown",
   "metadata": {
    "collapsed": false,
    "pycharm": {
     "name": "#%% md\n"
    }
   },
   "source": [
    "Цей перелік типів даних далеко не повний і не в повній мірі описує поведінку і можливості перелічених типів даних. PostgreSQL описує грошові типи даних (money), двійкові типи (bytea), типи перерахувань (enum), геометричні типи даних (точки, прямі, відрізки, прямокутники, шляхи, багатокутники, окружності), типи мережевих адрес, є також типи орієнтовані на текстовий пошук (tsvector, tsquery), UUID-тип, XML-тип, JSON-тип, масиви, диапазонні типи і це не повний перелік.\n",
    "\n",
    "Я сподіваюсь що ви побачили що PostgreSQL має значну кількість вбудованих типів даних і можливість створювати свої типи. При виникненні необхідності - читайте документацію і знаходьте рішення. Такий простір варінтів точно дає можливість для цього."
   ]
  },
  {
   "cell_type": "markdown",
   "metadata": {
    "collapsed": false,
    "pycharm": {
     "name": "#%% md\n"
    }
   },
   "source": [
    "### Прості запити.\n",
    "\n",
    "Ми з Вами вже робили такі запити при першому знайомстві з SQL і БД SQLite, але для узагальнення і повторення пройдемо по основним з невеликим розширенням переліку запитів.\n",
    "\n",
    "Ми будемо говорити про теорію (якщо це буде необхідно), а потім описувати запит для виконпння з нашого коду і демонструвати цей запит за допомогою графічного інтерфейсу якогось з підключених нами клієнтів."
   ]
  },
  {
   "cell_type": "markdown",
   "metadata": {
    "collapsed": false,
    "pycharm": {
     "name": "#%% md\n"
    }
   },
   "source": [
    "#### SELECT\n",
    "\n",
    "[докладно тут](https://www.postgresql.org/docs/14/sql-select.html)\n"
   ]
  },
  {
   "cell_type": "markdown",
   "metadata": {
    "collapsed": false,
    "pycharm": {
     "name": "#%% md\n"
    }
   },
   "source": [
    "##### Повна виборка"
   ]
  },
  {
   "cell_type": "markdown",
   "metadata": {
    "collapsed": false,
    "pycharm": {
     "name": "#%% md\n"
    }
   },
   "source": []
  },
  {
   "cell_type": "code",
   "execution_count": null,
   "metadata": {
    "collapsed": false,
    "pycharm": {
     "name": "#%%\n"
    }
   },
   "outputs": [],
   "source": [
    "orders_full_data_sample = \"\"\"\n",
    "SELECT * FROM orders;\n",
    "\"\"\""
   ]
  },
  {
   "cell_type": "code",
   "execution_count": null,
   "metadata": {
    "collapsed": false,
    "pycharm": {
     "name": "#%%\n"
    }
   },
   "outputs": [],
   "source": [
    "orders_full_sample = execute_read_query(connection, orders_full_data_sample)\n",
    "print(orders_full_sample)"
   ]
  },
  {
   "cell_type": "markdown",
   "metadata": {
    "collapsed": false,
    "pycharm": {
     "name": "#%% md\n"
    }
   },
   "source": [
    "У фінальному наборі ми отримали всі рядки цієї таблиці і всі атрибути. Це знанадто багато даних і, як правило, такої потреби немає. Фільтрувати по рядкам - ми будемо далі, а для того щоб фільтрувати по атрибутам - просто вкажіть необхідні атрибути таблиці замість зірочки через кому:"
   ]
  },
  {
   "cell_type": "markdown",
   "metadata": {
    "collapsed": false,
    "pycharm": {
     "name": "#%% md\n"
    }
   },
   "source": [
    "#### Виборка конкретного набора атрибутів"
   ]
  },
  {
   "cell_type": "code",
   "execution_count": null,
   "metadata": {
    "collapsed": false,
    "pycharm": {
     "name": "#%%\n"
    }
   },
   "outputs": [],
   "source": [
    "orders_some_attributes_sample = \"\"\"\n",
    "SELECT order_id, order_date, shipped_date, ship_city\n",
    "FROM orders;\n",
    "\"\"\"\n",
    "orders_partly_sample = execute_read_query(connection, orders_some_attributes_sample)\n",
    "print(orders_partly_sample)"
   ]
  },
  {
   "cell_type": "markdown",
   "metadata": {
    "collapsed": false,
    "pycharm": {
     "name": "#%% md\n"
    }
   },
   "source": [
    "#### Прості математичні операції та фукції\n",
    "\n",
    "[опис тут](https://www.postgresql.org/docs/14/functions.html)\n",
    "\n",
    "- додавання         \"+\"\n",
    "- віднімання        \"-\"\n",
    "- множення          \"*\"\n",
    "- поділ             \"/\" (якщо оператори цілі числа - результат ціле число - округляється в напрямку нуля)\n",
    "- зміна знака       \"- (числовий тип)\"\n",
    "- залишок від цілочисленого ділення - \"%\"\n",
    "- зведення в ступінь \"numeric ^ numeric\" | \"double precision ^ double precision\"\n",
    "- квадратний корінь \"|/ double precision\"\n",
    "- кубічний корінь \"||/ double precision\"\n",
    "- абсолютне значення \"@ (числовий тип)\"\n",
    "\n",
    "Операцій багато - дивіться документацію.\n",
    "\n",
    "Приклад використання:\n",
    "у нас є таблиця products з атрибутами unit_price - вартість одиниці продукцї і units_in_stock - залишок на складі. Давайте виведемо назву товару і суму вартості товару цієї назви на складі:"
   ]
  },
  {
   "cell_type": "code",
   "execution_count": null,
   "metadata": {
    "collapsed": false,
    "pycharm": {
     "name": "#%%\n"
    }
   },
   "outputs": [],
   "source": [
    "operation_query = \"\"\"\n",
    "SELECT product_name, unit_price * units_in_stock\n",
    "FROM products;\n",
    "\"\"\"\n",
    "\n",
    "final_set = execute_read_query(connection, operation_query)\n",
    "print(final_set)"
   ]
  },
  {
   "cell_type": "markdown",
   "metadata": {
    "collapsed": false,
    "pycharm": {
     "name": "#%% md\n"
    }
   },
   "source": [
    "PostgreSQL надає велику кількість [вбудованих функцій](https://www.postgresql.org/docs/14/functions.html).\n",
    "Ми не будемо вникати в кожну, подивимось декілька прикладів використання.\n",
    "\n",
    "Знайти найбільший спільний дільник:"
   ]
  },
  {
   "cell_type": "code",
   "execution_count": null,
   "metadata": {
    "collapsed": false,
    "pycharm": {
     "name": "#%%\n"
    }
   },
   "outputs": [],
   "source": [
    "operation_query = \"\"\"\n",
    "SELECT gcd(1028, 12004);\n",
    "\"\"\"\n",
    "\n",
    "final_set = execute_read_query(connection, operation_query)\n",
    "print(final_set)"
   ]
  },
  {
   "cell_type": "markdown",
   "metadata": {
    "collapsed": false,
    "pycharm": {
     "name": "#%% md\n"
    }
   },
   "source": [
    "Повернути довільне число (в діапазоні 0.0 <= x < 1.0):"
   ]
  },
  {
   "cell_type": "code",
   "execution_count": null,
   "metadata": {
    "collapsed": false,
    "pycharm": {
     "name": "#%%\n"
    }
   },
   "outputs": [],
   "source": [
    "operation_query = \"\"\"\n",
    "SELECT random();\n",
    "\"\"\"\n",
    "\n",
    "final_set = execute_read_query(connection, operation_query)\n",
    "print(final_set)"
   ]
  },
  {
   "cell_type": "markdown",
   "metadata": {
    "collapsed": false,
    "pycharm": {
     "name": "#%% md\n"
    }
   },
   "source": [
    "#### DISTINCT\n",
    "\n",
    "вибрати унікальні рядки\n",
    "\n",
    "(наприклад - ми хочемо мати список країн в яких живуть зараз наші покупці (таблиця customers))\n",
    "\n",
    "ВАЖЛИВО! Якщо ми вибираємо декілька атрибутів - то у виборку попадуть лише унікальні комбінації"
   ]
  },
  {
   "cell_type": "code",
   "execution_count": null,
   "metadata": {
    "collapsed": false,
    "pycharm": {
     "name": "#%%\n"
    }
   },
   "outputs": [],
   "source": [
    "operation_query = \"\"\"\n",
    "SELECT DISTINCT country\n",
    "FROM customers;\n",
    "\"\"\"\n",
    "\n",
    "final_set = execute_read_query(connection, operation_query)\n",
    "print(final_set)"
   ]
  },
  {
   "cell_type": "code",
   "execution_count": null,
   "metadata": {
    "collapsed": false,
    "pycharm": {
     "name": "#%%\n"
    }
   },
   "outputs": [],
   "source": [
    "operation_query = \"\"\"\n",
    "SELECT DISTINCT country, city\n",
    "FROM customers;\n",
    "\"\"\"\n",
    "\n",
    "final_set = execute_read_query(connection, operation_query)\n",
    "print(final_set)"
   ]
  },
  {
   "cell_type": "markdown",
   "metadata": {
    "collapsed": false,
    "pycharm": {
     "name": "#%% md\n"
    }
   },
   "source": [
    "#### COUNT\n",
    "\n",
    "підрахунок кількості отриманих у виборці рядків\n",
    "\n",
    "важливо розуміти, що COUNT лише рахує рядки. Якщо необхідно підрахувати унікальні рядки - необхідно комбінувати з DISTINCT\n",
    "\n",
    "Підрахуємо кількість наших постачальників"
   ]
  },
  {
   "cell_type": "code",
   "execution_count": null,
   "metadata": {
    "collapsed": false,
    "pycharm": {
     "name": "#%%\n"
    }
   },
   "outputs": [],
   "source": [
    "operation_query = \"\"\"\n",
    "SELECT COUNT(*)\n",
    "FROM suppliers;\n",
    "\"\"\"\n",
    "\n",
    "final_set = execute_read_query(connection, operation_query)\n",
    "print(final_set)"
   ]
  },
  {
   "cell_type": "markdown",
   "metadata": {
    "collapsed": false,
    "pycharm": {
     "name": "#%% md\n"
    }
   },
   "source": [
    "А от якщо ми захочемо підрахувати країни в яких працюють всі наші працівники (таблиця employees), то запит буде більш складний:"
   ]
  },
  {
   "cell_type": "code",
   "execution_count": null,
   "metadata": {
    "collapsed": false,
    "pycharm": {
     "name": "#%%\n"
    }
   },
   "outputs": [],
   "source": [
    "operation_query = \"\"\"\n",
    "SELECT COUNT(DISTINCT country)\n",
    "FROM employees;\n",
    "\"\"\"\n",
    "\n",
    "final_set = execute_read_query(connection, operation_query)\n",
    "print(final_set)"
   ]
  },
  {
   "cell_type": "markdown",
   "metadata": {
    "collapsed": false,
    "pycharm": {
     "name": "#%% md\n"
    }
   },
   "source": [
    "#### WHERE\n",
    "\n",
    "фільтуємо дані по умові\n",
    "\n",
    "Формат:\n",
    "```SQL\n",
    "SELECT <*>\n",
    "FROM <table_name>\n",
    "WHERE <condition>;\n",
    "```\n",
    "\n",
    "condition ---> boolean result\n",
    "\n",
    "В фінальний набір попадають рядки, для яких умова буде мати значення true\n",
    "\n",
    "Наприклад, можливі умови (можуть бути й інші):\n",
    "- a = b\n",
    "- a > b\n",
    "- a >= b\n",
    "- a < b\n",
    "- a <= b\n",
    "- a != b"
   ]
  },
  {
   "cell_type": "markdown",
   "metadata": {
    "collapsed": false,
    "pycharm": {
     "name": "#%% md\n"
    }
   },
   "source": [
    "Давайте отримаємо всіх постачальників в якійсь конкретній країні:"
   ]
  },
  {
   "cell_type": "code",
   "execution_count": null,
   "metadata": {
    "collapsed": false,
    "pycharm": {
     "name": "#%%\n"
    }
   },
   "outputs": [],
   "source": [
    "operation_query = \"\"\"\n",
    "SELECT company_name, city, phone\n",
    "FROM suppliers\n",
    "WHERE country = 'USA';\n",
    "\"\"\"\n",
    "\n",
    "final_set = execute_read_query(connection, operation_query)\n",
    "print(final_set)"
   ]
  },
  {
   "cell_type": "markdown",
   "metadata": {
    "collapsed": false,
    "pycharm": {
     "name": "#%% md\n"
    }
   },
   "source": [
    "#### AND, OR\n",
    "\n",
    "комбінація умов\n",
    "\n",
    "```SQL\n",
    "SELECT <*>\n",
    "FROM <table_name>\n",
    "WHERE <condition_1> AND|OR <condition_2>;\n",
    "```\n",
    "\n",
    "Давайте розширимо наш попередній запит і отримаємо постачальників не тільки з США, а й з Германії:"
   ]
  },
  {
   "cell_type": "markdown",
   "metadata": {
    "collapsed": false,
    "pycharm": {
     "name": "#%% md\n"
    }
   },
   "source": []
  },
  {
   "cell_type": "code",
   "execution_count": null,
   "metadata": {
    "collapsed": false,
    "pycharm": {
     "name": "#%%\n"
    }
   },
   "outputs": [],
   "source": [
    "operation_query = \"\"\"\n",
    "SELECT company_name, city, phone, country\n",
    "FROM suppliers\n",
    "WHERE country = 'USA' OR country = 'Germany';\n",
    "\"\"\"\n",
    "\n",
    "final_set = execute_read_query(connection, operation_query)\n",
    "print(final_set)"
   ]
  },
  {
   "cell_type": "markdown",
   "metadata": {
    "collapsed": false,
    "pycharm": {
     "name": "#%% md\n"
    }
   },
   "source": [
    "#### BETWEEN\n",
    "\n",
    "Важливо пам'ятати - границі включають в інтервал, тобто це еквівалент\n",
    "age BETWEEN 30 AND 40 еквівалентно age >= 30 AND age <= 40\n",
    "\n",
    "Давайте зробимо запит який потребує знання декількох вже вивчених пунктів. Наприклад - вважаємо що наша HR-служба компанії запросила інформацію про всіх співробітників яки мають вік від 25 до 35 років і працюють з нами більше двох років.\n",
    "Треба згадати:\n",
    "- у нас є таблиця employees в якій є атрибути age_date і hire_date - дата народження і дата найма в компанію\n",
    "- є типи даних - data (викристовуються для ціх атрибутів) і interval - [докладно тут](https://www.postgresql.org/docs/14/datatype-datetime.html)\n",
    "- можливо нам необхідно буде визначити поточну дату або - різницю поточної дати і якоїсь іншої. [Згадаємо вбудовані функції](https://www.postgresql.org/docs/14/functions-datetime.html).\n",
    "\n",
    "Якщо все скласти, отримаємо:"
   ]
  },
  {
   "cell_type": "code",
   "execution_count": null,
   "metadata": {
    "collapsed": false,
    "pycharm": {
     "name": "#%%\n"
    }
   },
   "outputs": [],
   "source": [
    "operation_query = \"\"\"\n",
    "SELECT employee_id, last_name, first_name, city, age(birth_date) AS age, age(hire_date) AS time_in_compaty\n",
    "from employees\n",
    "where (age(birth_date) between  interval '45 years' and interval '60 years') and (age(hire_date) > interval '5 years');\n",
    "\"\"\"\n",
    "\n",
    "final_set = execute_read_query(connection, operation_query)\n",
    "print(final_set)"
   ]
  },
  {
   "cell_type": "markdown",
   "metadata": {
    "collapsed": false,
    "pycharm": {
     "name": "#%% md\n"
    }
   },
   "source": [
    "Я використав невідомий нам ще оператор AS. І до того ж, ми бачимо у виводі наші інтервали не дуже зручно - все в днях. Необхідно розуміти, що це відповідь для нас сформована в об'єктах python. Пропоную Вам перенести цей запит в pgAdmin або DBeaver і подивитись там не результат.\n",
    "Якщо, все ж таки, роль оператора AS лишається незрозумілою - [документація тут](https://www.postgresql.org/docs/14/sql-select.html)."
   ]
  },
  {
   "cell_type": "markdown",
   "metadata": {
    "collapsed": false,
    "pycharm": {
     "name": "#%% md\n"
    }
   },
   "source": [
    "#### IN, NOT IN\n",
    "\n",
    "Пам'ятаєте ми нещодавно робили запит, в якому хотіли отримати всіх постачальників з Германії і США. Давайте перепишемо цей зпит по іншому:"
   ]
  },
  {
   "cell_type": "code",
   "execution_count": null,
   "metadata": {
    "collapsed": false,
    "pycharm": {
     "name": "#%%\n"
    }
   },
   "outputs": [],
   "source": [
    "operation_query = \"\"\"\n",
    "SELECT company_name, city, phone, country\n",
    "FROM suppliers\n",
    "WHERE country IN ('USA','Germany');\n",
    "\"\"\"\n",
    "\n",
    "final_set = execute_read_query(connection, operation_query)\n",
    "print(final_set)"
   ]
  },
  {
   "cell_type": "markdown",
   "metadata": {
    "collapsed": false,
    "pycharm": {
     "name": "#%% md\n"
    }
   },
   "source": [
    "Для мене такий формат здається більш читабельним. Думаю, що з \"антогоністом\" цього запиту - __NOT IN__ - ви розберетесь."
   ]
  },
  {
   "cell_type": "markdown",
   "metadata": {
    "collapsed": false,
    "pycharm": {
     "name": "#%% md\n"
    }
   },
   "source": [
    "#### ORDER BY\n",
    "\n",
    "впорядкування результатів\n",
    "\n",
    "ASC (за замовченням) - за зростанням\n",
    "DESC - за зменшенням\n",
    "\n",
    "Можливо сортування за декількома атрибутами\n",
    "\n",
    "Давайте отримаємо список всіх наших покупців відсортований по країнах:"
   ]
  },
  {
   "cell_type": "code",
   "execution_count": null,
   "metadata": {
    "collapsed": false,
    "pycharm": {
     "name": "#%%\n"
    }
   },
   "outputs": [],
   "source": [
    "operation_query = \"\"\"\n",
    "SELECT company_name, country, city\n",
    "FROM customers\n",
    "ORDER BY country;\n",
    "\"\"\"\n",
    "\n",
    "final_set = execute_read_query(connection, operation_query)\n",
    "print(final_set)"
   ]
  },
  {
   "cell_type": "markdown",
   "metadata": {
    "collapsed": false,
    "pycharm": {
     "name": "#%% md\n"
    }
   },
   "source": [
    "Щоб зрозуміти - як це сортування по декількох полях, давайте відсортуємо не тільки по країні, но і по місту."
   ]
  },
  {
   "cell_type": "code",
   "execution_count": null,
   "metadata": {
    "collapsed": false,
    "pycharm": {
     "name": "#%%\n"
    }
   },
   "outputs": [],
   "source": [
    "operation_query = \"\"\"\n",
    "SELECT company_name, country, city\n",
    "FROM customers\n",
    "ORDER BY country DESC, city DESC;\n",
    "\"\"\"\n",
    "\n",
    "final_set = execute_read_query(connection, operation_query)\n",
    "print(final_set)"
   ]
  },
  {
   "attachments": {},
   "cell_type": "markdown",
   "metadata": {},
   "source": [
    "#### MIN, MAX, AVG\n",
    "\n",
    "Агрегаційні вирази - [докладно тут](https://www.postgresql.org/docs/14/sql-expressions.html#SYNTAX-AGGREGATES)\n",
    "\n",
    "Агрегатний вираз є застосування агрегатної функції до рядків, обраним запитом. Агрегатна функція зводить безліч вхідних значень одного вихідного, як наприклад, сума або середнє або мінімальне\\максимальне значення.\n",
    "\n",
    "Знайдемо, наприклад, середню вартість товарів у нас в наявності:"
   ]
  },
  {
   "cell_type": "code",
   "execution_count": null,
   "metadata": {},
   "outputs": [],
   "source": [
    "operation_query = \"\"\"\n",
    "SELECT AVG(unit_price)\n",
    "FROM products;\n",
    "\"\"\"\n",
    "\n",
    "final_set = execute_read_query(connection, operation_query)\n",
    "print(final_set)"
   ]
  },
  {
   "attachments": {},
   "cell_type": "markdown",
   "metadata": {},
   "source": [
    "Або - дату самого першого замовлення з дроставкою в Германію:"
   ]
  },
  {
   "cell_type": "code",
   "execution_count": null,
   "metadata": {},
   "outputs": [],
   "source": [
    "operation_query = \"\"\"\n",
    "SELECT MIN(order_date)\n",
    "FROM orders\n",
    "WHERE ship_country = 'Germany';\n",
    "\"\"\"\n",
    "\n",
    "final_set = execute_read_query(connection, operation_query)\n",
    "print(final_set)"
   ]
  },
  {
   "attachments": {},
   "cell_type": "markdown",
   "metadata": {},
   "source": [
    "Або - дату народження самого молодого співробітника компанії який працює у Лондоні:"
   ]
  },
  {
   "cell_type": "code",
   "execution_count": null,
   "metadata": {},
   "outputs": [],
   "source": [
    "operation_query = \"\"\"\n",
    "SELECT MAX(birth_date)\n",
    "FROM employees\n",
    "WHERE city = 'London';\n",
    "\"\"\"\n",
    "\n",
    "final_set = execute_read_query(connection, operation_query)\n",
    "print(final_set)"
   ]
  },
  {
   "attachments": {},
   "cell_type": "markdown",
   "metadata": {},
   "source": [
    "#### LIKE\n",
    "\n",
    "відповідність шаблону\n",
    "\n",
    "SQL надає нам два символа підстановки:\n",
    "\n",
    "% - означає 0, 1 або більше будь яких символів\n",
    "\n",
    "_ - означає один будь який символ\n",
    "\n",
    "Приклад:\n",
    "- LIKE 'AA%' - рядки, які починаються з двох символів A\n",
    "- LIKE '%AA' - рядки, які закінчуються двома символами A\n",
    "- LIKE '%Марія%' - рядки які включають в собі субрядок 'Марія'\n",
    "- LIKE 'www._%.__' - рядок, який починається з www. далі один, або більше символів до крапки (але хочаб один), крапка і два будь-яких символа в кінці\n",
    "\n",
    "Наприклад - знайдемо всіх співробітників ім'я яких починається з \"L\":"
   ]
  },
  {
   "cell_type": "code",
   "execution_count": null,
   "metadata": {},
   "outputs": [],
   "source": [
    "operation_query = \"\"\"\n",
    "SELECT employee_id, first_name, last_name, city\n",
    "FROM employees\n",
    "WHERE first_name LIKE 'L%';\n",
    "\"\"\"\n",
    "\n",
    "final_set = execute_read_query(connection, operation_query)\n",
    "print(final_set)"
   ]
  },
  {
   "attachments": {},
   "cell_type": "markdown",
   "metadata": {},
   "source": [
    "#### LIMIT\n",
    "\n",
    "Якщо Вам необхідно обмежити виборку (уявіть що у Вас БД з петабайтами даних і сотнями тисяч\\мільонами записів в таблицях) - ви можете використати LIMIT:"
   ]
  },
  {
   "cell_type": "code",
   "execution_count": null,
   "metadata": {},
   "outputs": [],
   "source": [
    "operation_query = \"\"\"\n",
    "SELECT employee_id, first_name, last_name, city\n",
    "FROM employees\n",
    "ORDER BY first_name\n",
    "LIMIT 10;\n",
    "\"\"\"\n",
    "\n",
    "final_set = execute_read_query(connection, operation_query)\n",
    "print(final_set)"
   ]
  },
  {
   "attachments": {},
   "cell_type": "markdown",
   "metadata": {},
   "source": [
    "#### Check on NULL\n",
    "\n",
    "NULL -спеціальне значення, яке визначає не 0 (як число), а відсутність будь-якого значення. При мапінгу цього значення на об'єкти python це буде None. Наприклад - давайте подивимось на атрибут ship_region таблиці orders:"
   ]
  },
  {
   "cell_type": "code",
   "execution_count": null,
   "metadata": {},
   "outputs": [],
   "source": [
    "operation_query = \"\"\"\n",
    "SELECT order_id, order_date, ship_region, ship_name, ship_city\n",
    "FROM orders\n",
    "LIMIT 20;\n",
    "\"\"\"\n",
    "\n",
    "final_set = execute_read_query(connection, operation_query)\n",
    "for record in final_set:\n",
    "    print(record)"
   ]
  },
  {
   "attachments": {},
   "cell_type": "markdown",
   "metadata": {},
   "source": [
    "Напевно - це був не обов'язковий атрибут.\n",
    "Давайте відфільтруємо записи так, щоб отримати записи для яких цей запис існує:"
   ]
  },
  {
   "cell_type": "code",
   "execution_count": null,
   "metadata": {},
   "outputs": [],
   "source": [
    "operation_query = \"\"\"\n",
    "SELECT order_id, order_date, ship_region, ship_name, ship_city\n",
    "FROM orders\n",
    "WHERE ship_region IS NOT NULL\n",
    "LIMIT 20;\n",
    "\"\"\"\n",
    "\n",
    "final_set = execute_read_query(connection, operation_query)\n",
    "if final_set:\n",
    "    for record in final_set:\n",
    "        print(record)\n",
    "else:\n",
    "    print(final_set)"
   ]
  },
  {
   "attachments": {},
   "cell_type": "markdown",
   "metadata": {},
   "source": [
    "#### GROUP BY\n",
    "\n",
    "Допомагає сгрупувати результати.\n",
    "Простіше пояснити на прикладі: нам необхідно побачити всі замовлення з вагою більше 40 кг і щоб вони були згруповані по країнам."
   ]
  },
  {
   "cell_type": "code",
   "execution_count": null,
   "metadata": {},
   "outputs": [],
   "source": [
    "operation_query = \"\"\"\n",
    "SELECT ship_country,  COUNT(*) \n",
    "FROM orders\n",
    "WHERE freight >= 40\n",
    "GROUP BY ship_country\n",
    "ORDER BY COUNT(*) DESC;\n",
    "\"\"\"\n",
    "\n",
    "final_set = execute_read_query(connection, operation_query)\n",
    "if final_set:\n",
    "    for record in final_set:\n",
    "        print(record)\n",
    "else:\n",
    "    print(final_set)"
   ]
  },
  {
   "attachments": {},
   "cell_type": "markdown",
   "metadata": {},
   "source": [
    "Або інший приклад - у нас є категоріх товарів (products.category_id) і самі товари (які відносяться до якихось певних категорій). Також - у нас є для кожного товару його залишки на складі - products.units_in_stock.\n",
    "Давайте отримаємо таблицю яка надасть нам інформацію про кількість одиниць товарів в кожній категорії:"
   ]
  },
  {
   "cell_type": "code",
   "execution_count": null,
   "metadata": {},
   "outputs": [],
   "source": [
    "operation_query = \"\"\"\n",
    "SELECT category_id,  SUM(units_in_stock) \n",
    "FROM products\n",
    "GROUP BY category_id\n",
    "ORDER BY SUM(units_in_stock) DESC;\n",
    "\"\"\"\n",
    "\n",
    "final_set = execute_read_query(connection, operation_query)\n",
    "if final_set:\n",
    "    for record in final_set:\n",
    "        print(record)\n",
    "else:\n",
    "    print(final_set)"
   ]
  },
  {
   "attachments": {},
   "cell_type": "markdown",
   "metadata": {},
   "source": [
    "#### HAVING\n",
    "\n",
    "Ми з вами вже багато раз фільтували наш запит - використовуючи WHERE.\n",
    "Тепер уявіть ситуацію що ви використали WHERE і потім згрупували результат за допомогою GROUP BY, і Вам необхідно накласти ще якійсь фільтр на результат. Для цього існує оператор HAVING.\n",
    "\n",
    "Нам потрібно оцінити суму на яку продається товарів в категорії товару і вивести ті - яких в категорії залишилось небагато - зкладські залишки менше 10000.\n",
    "Зроуміло що нам необхідно згрупувати товари по category_id, а потім порахувати суму SUM(units_in_price * units_in_stock). Сгрупувати результати по категоріям і додатково відфільтрувати - за допомогою HAVING:"
   ]
  },
  {
   "cell_type": "code",
   "execution_count": null,
   "metadata": {},
   "outputs": [],
   "source": [
    "operation_query = \"\"\"\n",
    "SELECT category_id,  SUM(units_in_stock * unit_price) \n",
    "FROM products\n",
    "GROUP BY category_id\n",
    "HAVING SUM(units_in_stock * unit_price) < 10000;\n",
    "\"\"\"\n",
    "\n",
    "final_set = execute_read_query(connection, operation_query)\n",
    "if final_set:\n",
    "    for record in final_set:\n",
    "        print(record)\n",
    "else:\n",
    "    print(final_set)"
   ]
  },
  {
   "attachments": {},
   "cell_type": "markdown",
   "metadata": {},
   "source": [
    "HAVING працює точно так як і WHERE, але з результатами первинної фільтрації."
   ]
  },
  {
   "attachments": {},
   "cell_type": "markdown",
   "metadata": {},
   "source": [
    "#### UNION, INTERSECT, EXCEPT\n",
    "\n",
    "Ці оператори повинні викликати у Вас деяке відчуття déjà vu. І це абсолютно справедливе відчуття - коли ми з вами вивчали множини, ми стикалися з операціями над множинами - поєднання множин, перетин множин, різні варіанти різниць множин.\n",
    "Тепер ми вивчимо операції над множинами в SQL і PostgreSQL. І - нагадаю вам, що всі таблиці (або відношення) - це є множини, результат будь-якого запиту - це також множина (або таблиця, або відношення).\n",
    "\n",
    "Давайте виведемо всі країни з яких наші працівники і з яких наші постачальники. Але це дві різні таблиці - тому робити це треба за допомогою поєднання двох множин за допомогою UNION."
   ]
  },
  {
   "cell_type": "code",
   "execution_count": null,
   "metadata": {},
   "outputs": [],
   "source": [
    "operation_query = \"\"\"\n",
    "SELECT country\n",
    "FROM suppliers\n",
    "UNION\n",
    "SELECT country\n",
    "FROM employees\n",
    "\"\"\"\n",
    "\n",
    "final_set = execute_read_query(connection, operation_query)\n",
    "if final_set:\n",
    "    for record in final_set:\n",
    "        print(record)\n",
    "else:\n",
    "    print(final_set)"
   ]
  },
  {
   "attachments": {},
   "cell_type": "markdown",
   "metadata": {},
   "source": [
    "Як ви бачите - дублікатів нема. Якщо Вам для чогось потрібні повтри країн - використовуйте UNION ALL.\n",
    "\n",
    "INTERSECT - перетин множин.\n",
    "Наприклад - давайте подивимось на країни, де у нас є і постачальники і покупці (можливо ми фантазуємо як оптимізувати доставку і не використовувати свох склади):"
   ]
  },
  {
   "cell_type": "code",
   "execution_count": null,
   "metadata": {},
   "outputs": [],
   "source": [
    "operation_query = \"\"\"\n",
    "SELECT country\n",
    "FROM suppliers\n",
    "INTERSECT\n",
    "SELECT country\n",
    "FROM customers\n",
    "\"\"\"\n",
    "\n",
    "final_set = execute_read_query(connection, operation_query)\n",
    "if final_set:\n",
    "    for record in final_set:\n",
    "        print(record)\n",
    "else:\n",
    "    print(final_set)"
   ]
  },
  {
   "attachments": {},
   "cell_type": "markdown",
   "metadata": {},
   "source": [
    "Давайте тепер з'ясуємо в яких країнах у нас є покупці, але немає взагалі ніяких постачальніків.\n",
    "Тобто - нам необхідно отримати множину всіх країн, де є покупці, а потім вилучити звідти всі країни, де є наші постачальники. Така операція робиться з допомогою EXCEPT:"
   ]
  },
  {
   "cell_type": "code",
   "execution_count": null,
   "metadata": {},
   "outputs": [],
   "source": [
    "operation_query = \"\"\"\n",
    "SELECT country\n",
    "FROM customers\n",
    "EXCEPT\n",
    "SELECT country\n",
    "FROM suppliers\n",
    "\"\"\"\n",
    "\n",
    "final_set = execute_read_query(connection, operation_query)\n",
    "if final_set:\n",
    "    for record in final_set:\n",
    "        print(record)\n",
    "else:\n",
    "    print(final_set)"
   ]
  },
  {
   "attachments": {},
   "cell_type": "markdown",
   "metadata": {},
   "source": [
    "Як ви бачите EXCEPT контролює унікальність - тобто кожна країна зустрічається у фінальній виборці лише один раз.\n",
    "Існує конструкція EXCEPT ALL - яка, фактично, враховує кількість повторів в першій множині в другій. І починає в результаті залишати різницю - тобто вважає кожен елемент унікальним і вираховує симетричну різніцю. \n",
    "Пропоную Вам самостійно поексперементувати з цім оператором."
   ]
  }
 ],
 "metadata": {
  "kernelspec": {
   "display_name": ".venv",
   "language": "python",
   "name": "python3"
  },
  "language_info": {
   "codemirror_mode": {
    "name": "ipython",
    "version": 3
   },
   "file_extension": ".py",
   "mimetype": "text/x-python",
   "name": "python",
   "nbconvert_exporter": "python",
   "pygments_lexer": "ipython3",
   "version": "3.10.8"
  },
  "vscode": {
   "interpreter": {
    "hash": "9638ab908a3d057c39366469a2f6e98655520ee10d4ea313cd4911d69c3372da"
   }
  }
 },
 "nbformat": 4,
 "nbformat_minor": 0
}
