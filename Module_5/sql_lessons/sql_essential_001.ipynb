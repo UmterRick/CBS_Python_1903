{
 "cells": [
  {
   "cell_type": "markdown",
   "metadata": {
    "pycharm": {
     "name": "#%% md\n"
    }
   },
   "source": [
    "# Введення в реляційні бази даних.\n",
    "# PostgreSQL + Python\n",
    "\n",
    "---\n",
    "\n",
    "## лекція 1: сторюємо інфраструктуру\n"
   ]
  },
  {
   "cell_type": "code",
   "execution_count": 1,
   "metadata": {
    "collapsed": false,
    "pycharm": {
     "name": "#%%\n"
    }
   },
   "outputs": [
    {
     "name": "stdout",
     "output_type": "stream",
     "text": [
      "PostgreSQL + Python: lesson 1. A little about the database and the creation of infrastructure\n"
     ]
    }
   ],
   "source": [
    "print(\"PostgreSQL + Python: lesson 1. A little about the database and the creation of infrastructure\")"
   ]
  },
  {
   "cell_type": "markdown",
   "metadata": {
    "collapsed": false,
    "pycharm": {
     "name": "#%% md\n"
    }
   },
   "source": [
    "### _Введення в реляційні бази даних_\n",
    "\n",
    "[База даних (БД, DataBase, DB)](https://uk.wikipedia.org/wiki/%D0%91%D0%B0%D0%B7%D0%B0_%D0%B4%D0%B0%D0%BD%D0%B8%D1%85) - це набір взаємно пов'язаних даних.\n",
    "\n",
    "[Система управляння базами даних (СУБД, СКБД англ. Database Management System, DBMS)](https://uk.wikipedia.org/wiki/%D0%A1%D0%B8%D1%81%D1%82%D0%B5%D0%BC%D0%B0_%D1%83%D0%BF%D1%80%D0%B0%D0%B2%D0%BB%D1%96%D0%BD%D0%BD%D1%8F_%D0%B1%D0%B0%D0%B7%D0%B0%D0%BC%D0%B8_%D0%B4%D0%B0%D0%BD%D0%B8%D1%85) - комплекс програмних засобів для керування даними.\n",
    "\n",
    "СУБД - відповідає за підтримку мови БД, організацію створення БД, внесення даних, збереження, маніпулювання даними, оптимізацію процесів роботи з даними й т.ін."
   ]
  },
  {
   "cell_type": "markdown",
   "metadata": {
    "collapsed": false,
    "pycharm": {
     "name": "#%% md\n"
    }
   },
   "source": [
    "![які бувають БД](./media/database.png)\n",
    "\n",
    "---\n",
    "\n",
    "Не реляційні СУБД з'явилися дуже давно - і з деякими з них ви напевне знайомі. Приклад ієрархічної організації даних (докладніше - [тут](https://uk.wikipedia.org/wiki/%D0%86%D1%94%D1%80%D0%B0%D1%80%D1%85%D1%96%D1%87%D0%BD%D0%B0_%D0%BC%D0%BE%D0%B4%D0%B5%D0%BB%D1%8C_%D0%B4%D0%B0%D0%BD%D0%B8%D1%85#:~:text=%D0%86%D1%94%D1%80%D0%B0%D1%80%D1%85%D1%96%D1%87%D0%BD%D0%B0%20%D0%BC%D0%BE%D0%B4%D0%B5%D0%BB%D1%8C%20%D0%B4%D0%B0%D0%BD%D0%B8%D1%85%20%E2%80%94%20%D1%86%D0%B5%20%D0%BC%D0%BE%D0%B4%D0%B5%D0%BB%D1%8C,%D0%BE%D0%B1'%D1%94%D0%BA%D1%82%D1%96%D0%B2%20%D0%B1%D1%96%D0%BB%D1%8C%D1%88%20%D0%BD%D0%B8%D0%B7%D1%8C%D0%BA%D0%BE%D0%B3%D0%BE%20%D1%80%D1%96%D0%B2%D0%BD%D1%8F.)) - каталог бібліотеки. Або - приклад нижче\n",
    "\n",
    "---\n",
    "\n",
    "![ієрарчічна модель даних](./media/ierarch_db.jpg)\n",
    "\n",
    "---\n",
    "\n",
    "Мережеві моделі даних - розвиток ієрархічної моделі. Відмінність - вузол може бути нащадком не одного предка, а будь-скількох. Це на каша, а досить складна і сувора математична теорія). Докладніше - [тут](https://uk.wikipedia.org/wiki/%D0%9C%D0%B5%D1%80%D0%B5%D0%B6%D0%B5%D0%B2%D0%B0_%D0%BC%D0%BE%D0%B4%D0%B5%D0%BB%D1%8C_%D0%B4%D0%B0%D0%BD%D0%B8%D1%85).\n",
    "\n",
    "Структурно це може виглядати так:\n",
    "\n",
    "---\n",
    "\n",
    "![мережева модель даних](./media/net_model_db.jpeg)"
   ]
  },
  {
   "cell_type": "markdown",
   "metadata": {
    "collapsed": false,
    "pycharm": {
     "name": "#%% md\n"
    }
   },
   "source": [
    "Але сьогодні ми розмовляємо про [реляційні бази даних](https://uk.wikipedia.org/wiki/%D0%A0%D0%B5%D0%BB%D1%8F%D1%86%D1%96%D0%B9%D0%BD%D0%B0_%D0%B1%D0%B0%D0%B7%D0%B0_%D0%B4%D0%B0%D0%BD%D0%B8%D1%85).\n",
    "\n",
    "Теоретичною базою реляційних СУБД є [реляційна алгебра](https://uk.wikipedia.org/wiki/%D0%A0%D0%B5%D0%BB%D1%8F%D1%86%D1%96%D0%B9%D0%BD%D0%B0_%D0%B0%D0%BB%D0%B3%D0%B5%D0%B1%D1%80%D0%B0)\n",
    "\n",
    "Досить проста презентація, яка демонструє базові інструменти - [тут](https://ppt-online.org/557751)\n",
    "\n",
    "Лекція про множини і операції з ними, яка нагадає Вам роботу дуже схожих операцій - [тут](https://www.youtube.com/watch?v=xMW1x3i6D44&list=PLOlyZEVllXBHso6SasmoJdNWVO63573RN&index=6). Дивіться останню третину лекції.\n",
    "\n",
    "---\n",
    "\n",
    "![демонстрація деяких операцій реляційної алгебри](./media/relaton_alg.png)\n",
    "\n",
    "___\n",
    "\n",
    "Реляційна алгебра визначає комплекс операцій з відношеннями (таблицями): поєднання, різницю, перетин ...\n",
    "\n",
    "Всі ці операції можуть біти виражені через мову SQL, що ми і будемо з Вами робити.\n",
    "\n",
    "Терміни:\n",
    "- сутність - те, що ми описуємо (якийсь конкретний товар, якась конкретна людина, замовлення і т. ін.).\n",
    "- таблиця (відношення) - це множина якихось сутностей\n",
    "- стовпчик таблиці - атрибут - один з параметрів якими ми описуємо сутності\n",
    "- рядок таблиці (запис, кортеж) - набір атрибутів з конкретними значеннями.\n",
    "- фінальний набір - результат запиту SQL. Завжди таблиця (навіть коли результат - просте число).\n",
    "\n",
    "таблиці (стовпці - атрибути, рядки - сутності (дані), шапка таблиці - імена атрибутів)\n",
    "\n",
    "---\n",
    "\n",
    "#### Коротко - що таке SQL\n",
    "\n",
    "SQL - спеціалізована непроцедурна мова програмування.\n",
    "\n",
    "SQL стандартизований. Діючий стандарт - ANSI SQL-92. Як правило, різні БД підтримують цей стандарт і додають свої розширення (свій діалект).\n",
    "\n",
    "Складається з декількох груп операторів:\n",
    "- DDL (Data Definition Language) - CREATE, DROP, ALTER\n",
    "- DML (Data Manipulation Language) - SELECT, INSERT, UPDATE, DELETE\n",
    "- TCL (Transaction Control Language) - COMMIT, ROLLBACK, SAVEPOINT\n",
    "- DCL (Data Control Language) - GRANT, REVOKE, DENY\n"
   ]
  },
  {
   "cell_type": "markdown",
   "metadata": {
    "collapsed": false,
    "pycharm": {
     "name": "#%% md\n"
    }
   },
   "source": [
    "#### Світ SQL баз даних - досить широкий і неоднорідний\n",
    "\n",
    "[За архітектурою побудови](http://um.co.ua/9/9-3/9-30541.html):\n",
    "- вбудовані (SQLite)\n",
    "- [клієнт-серверні](https://stud.com.ua/97304/informatika/kliyent_serverni_sistemi) (PostgreSQL, MySQL, ...)\n",
    "- файл-серверні (Microsoft Access)\n",
    "\n",
    "#### Приклади популярних клієнт-серверних СУБД:\n",
    "\n",
    "- MySQL\n",
    "- PostgreSQL\n",
    "- Oracle\n",
    "- MS SQL\n",
    "- MariaDB"
   ]
  },
  {
   "cell_type": "markdown",
   "metadata": {
    "collapsed": false,
    "pycharm": {
     "name": "#%% md\n"
    }
   },
   "source": [
    "![TOP database](./media/TOPDB.png)\n",
    "\n",
    "Ми з Вами зосередимось на PostgreSQL як на реляційній БД загального використання з високими темпами зростання серед інших близких за областю використання БД."
   ]
  },
  {
   "cell_type": "markdown",
   "metadata": {
    "collapsed": false,
    "pycharm": {
     "name": "#%% md\n"
    }
   },
   "source": []
  },
  {
   "cell_type": "markdown",
   "metadata": {
    "collapsed": false,
    "pycharm": {
     "name": "#%% md\n"
    }
   },
   "source": [
    "### _Інфраструктура і розгортання БД_\n",
    "\n",
    "---\n",
    "\n",
    "Для проходження курсу ми з вами розгорнемо CУБД PostgreSQl в контейнері - згадавши і закріпивши матеріал попереднього курсу Docker&Python.\n",
    "\n",
    "Для зручного використання і закріплення навичок ми розгорнемо web-клієнта pgAdmin у сусідньому контейнері.\n",
    "Оскільки ми з вами цю тематику вивчали зовсім недавно - розберемо лише відмінності у docker-compose.yaml"
   ]
  },
  {
   "cell_type": "markdown",
   "metadata": {
    "collapsed": false,
    "pycharm": {
     "name": "#%% md\n"
    }
   },
   "source": [
    "![docker-compose.yaml](./media/docker_compose_yaml.png)"
   ]
  },
  {
   "cell_type": "markdown",
   "metadata": {
    "collapsed": true,
    "pycharm": {
     "name": "#%% md\n"
    }
   },
   "source": [
    "##### Спочатку розберемо відмінності від того, що ми робили раніше, у сервісі __postgres__.\n",
    "\n",
    "Тут є досить багато відмінностей, розглянемо їх по черзі:\n",
    "- розділ __environment__, змінна середовища PGDATA.\n",
    "    - докладно про цю змінну середовища можна [прочитати тут](https://www.postgresql.org/docs/14/storage-file-layout.html) та [обов'язково тут](https://github.com/docker-library/docs/blob/master/postgres/README.md#pgdata). Якщо коротко - вона визначає маршрут, за яким будуть зберігатися файли конфігурації сервера та даних. Трохи пізніше стане зрозумілим для чого зараз ми створили цю змінну.\n",
    "- розділ __volumes__, тут дещо цікавіше\n",
    "    - спочатку ми зв'язуємо теку ./init_DB/ в своєму робочому каталозі з текою в контейнері з назвою /docker-entrypoint-initdb.d\n",
    "    Це тека, яка передбачена офіційним docker-образом postgresql для старта sql або bash-скриптів при ініціалізації бази даних - тобто вони запускаються якщо папка з даними (дивись попередній пункт) буде пустою. Ми можемо розмістити в init_DB/ sql-скрипт ініціалізації і створення бази даних. Докладніше про це можна [прочитати тут](https://github.com/docker-library/docs/blob/master/postgres/README.md#initialization-scripts).\n",
    "    - далі ми зв'язуємо теку ./data/ в нашому каталозі з тією самою текою на першому кроці - яка визначена в змінній оточення PGDATA і вказує на теку яка буде зберігати налаштування БД і всі дані. Таким чином ми першим кроком точно зафіксували цей маршрут, а другим кроком, зв'язавши з текою в нашому каталозі, забезпечили зберігання даних за межами контейнера.\n",
    "- розділ healthcheck. Раніше ми з таким не працювали. Це можливість, яка забезпечується docker для контроля з деякою періодичністю роботи створених сервісів. Докладно про цю можливість в цілому можна прочитати тут(https://docs.docker.com/engine/reference/builder/#healthcheck), а стосовно [postgresql - тут](https://medium.com/@manusajith/making-dependent-services-wait-till-containers-are-healthy-using-docker-health-check-167d7e7f0de2).\n",
    "\n",
    "Відносно сервісу __pgAdmin__.\n",
    "\n",
    "Ми замінили версію образу на останню, додали змінну оточення PGADMIN_CONFIG_SERVER_MODE - яка керує можливістю працювати pgAdmin в режимі сервера (для нас в цьому немає сенсу, [докладніше про це тут](https://www.pgadmin.org/docs/pgadmin4/6.18/server_deployment.html)) і я змінив порт 5050 (на якому у зазвичай працює pgAdmin) на порт 5055 - просто тому що у мене порт 5050 зайнятий.\n",
    "\n",
    "Фактично - це всі особливості."
   ]
  },
  {
   "cell_type": "markdown",
   "metadata": {
    "collapsed": false,
    "pycharm": {
     "name": "#%% md\n"
    }
   },
   "source": [
    "##### Про базу даних, яку ми будемо використовувати.\n",
    "\n",
    "Сподіваюсь що Ви пам'ятаєте базу даних, яку ми створювали при першому знайомстві з SQL. На цьому етапі ми плануємо значно глибше вивчення SQL з незначною орієнтацією на діалект і особливості PostgreSQL. Структура тієї бази була достатня для первинного знайомства з SQL і вивчення простих запитів.\n",
    "\n",
    "Для досягнення цілей цього курса нам необхідна база даних з дещо складнішою структурою. Щоб не витрачати час на створення нової БД ми будемо використовувати БД Nordwind.\n",
    "Це фейкова БД створена саме для навчання і вона має ліцензію яка дає нам можливість без обмежень використовувати її в навчальному процесі.\n",
    "Для розгортання цієї БД - sql-файл, що відповідає за створення всіх таблиць, накладання обмежень і заповнення їх даними розміщується в каталозі ./init_DB/. При старті наших сервісів, якщо файли даних БД (розташовані в теці яка визначається змінною оточення PGDATA) відсутні, буде запущений northwind.sql, який створить БД. Після зупинки контейнерів\\видалення\\перестворення\\перезапуску - якщо не змінювати volumes і нічого не видаляти в теці ./data/ - БД буде збережена і цей скрипт не буде стартувати.\n",
    "\n",
    "---\n"
   ]
  },
  {
   "cell_type": "markdown",
   "metadata": {
    "collapsed": false,
    "pycharm": {
     "name": "#%% md\n"
    }
   },
   "source": [
    "#### БД Nordwind\n",
    "\n",
    "БД описує діяльність торгової організації та має наступні сутності:\n",
    "- __products__ - товари\n",
    "- __categories__ - категорії товарів\n",
    "- __suppliers__ - постачальники товарів\n",
    "- __employees__ - співробітники компанії\n",
    "- __employees_territories__ - допоміжна таблиця, яка створює зв'язок \"багато-до-багатьох\" (ми будемо про це розмовляти більш докладно) співробітників компанії з територіальними одиницями\n",
    "- __territories__ - описує територіальні одниці \"територія\"\n",
    "- __region__ - описує територіальну сутність регіон, яка є атрибутом територіальної одниці \"територія\"\n",
    "- __customers__ - покупці\n",
    "- __customer_customer_demo__ - допоміжна таблиця, яка створює відношення \"багато-до-багатьох\" при формуванні демографічного атрибута покупця\n",
    "- __customer_demographics__ - описує можливі демографічні атрибути покупця\n",
    "- __orders__ - описує замовлення покупця (загальну інформацію по кожному замовленню)\n",
    "- __order_details__ - описує кожен товар в кожному замовленні з індивідуальними характеристиками (кількість одиниць, прайсова ціна і дисконт по кожній позиції)\n",
    "- __shippers__ - компанія яка займається доставленням конкретного замовлення\n",
    "- __us_states__ - таблиця описує перелік штатів у США зі своїми атрибутами\n",
    "\n",
    "Загальна ER-діаграма для бази даних має наступний вигляд:\n",
    "\n",
    "![Nordwind ERD](./media/Nordwind_ERD.png)"
   ]
  },
  {
   "cell_type": "markdown",
   "metadata": {
    "collapsed": false,
    "pycharm": {
     "name": "#%% md\n"
    }
   },
   "source": [
    "#### Розгортання інфраструктури і БД\n",
    "\n",
    "Я сподіваюсь що ви клонували репозиторій на локальний комп'ютер і у Вас розгорнутий інструментарій docker (якщо ні - згадайте курс Docker&Python, який ми проходили до цього курса і встановіть все необхідне).\n",
    "\n",
    "Відкрийте термінал в теці проекта і виконайте команди:\n",
    "\n",
    "```CLI\n",
    "sql_essential_2023> docker-compose create --buld\n",
    "...\n",
    "sql_essential_2023> docker-compose up -d\n",
    "\n",
    "```"
   ]
  },
  {
   "cell_type": "markdown",
   "metadata": {
    "collapsed": false,
    "pycharm": {
     "name": "#%% md\n"
    }
   },
   "source": [
    "Ми не будемо зупинятись на деталізації роботи з docker, це було в минулому курсі. Після того, як ви побачите щось на кшталт:\n",
    "\n",
    "![start infrastructure screen](./media/start_infrastructure.png)"
   ]
  },
  {
   "cell_type": "markdown",
   "metadata": {
    "collapsed": false,
    "pycharm": {
     "name": "#%% md\n"
    }
   },
   "source": [
    "можемо переходити до наступних кроків."
   ]
  },
  {
   "cell_type": "markdown",
   "metadata": {
    "collapsed": false,
    "pycharm": {
     "name": "#%% md\n"
    }
   },
   "source": [
    "#### __Підключення клієнта до БД__\n",
    "\n",
    "Ми розгорнули СУБД PostgreSQL в контейнері, створили БД, таблиці, відношення між ними та наповнили БД даними завдяки sql-скрипту.\n",
    "PostgrSQL надає термінальний інтерфейс psql для взаємодії з базами даних.\n",
    "Докладна документація по [psql тут](https://www.postgresql.org/docs/14/app-psql.html).\n",
    "\n",
    "В терміналі, відкритому в нашому проекті, виконайте наступну команду:\n",
    "```CLI\n",
    "\n",
    "sql_essential_2023> docker-compose exec postgres psql -U student -d sql_essential_db\n",
    "\n",
    "```\n",
    "Команда робить наступне:\n",
    "- \"exec\" - в контейнері що працює (тобто - контейнер повинен працювати, нагадую що ми на попередньому кроці її запустили)\n",
    "- \"postgres\" - це ім'я сервіса, в якому необхідно виконати команду. В нашому випадку це сервіс \"postgres\"\n",
    "- \"psql\" - це ім'я того, що ми запускаємо в контейнері. Це і є команда для запуску термінального клієнта psql. Далі ідуть аргументи запуску саме термінального клієнта.\n",
    "- \"-U student\" - ми вказуємо psql ім'я клієнта, під яким необхідно підключатися до БД\n",
    "- \"-d sql_essential_db\" - ми вказуємо psql назву БД, до якої необхідно підлючитись\n",
    "\n",
    "Після вдалого виконання команди ви побачите запрошення psql для роботи в консолі:\n",
    "\n",
    "![psql CLI](./media/psql_start.png)"
   ]
  },
  {
   "cell_type": "markdown",
   "metadata": {
    "collapsed": false,
    "pycharm": {
     "name": "#%% md\n"
    }
   },
   "source": [
    "psql має досить велику кількість мета-команд для адміністрування БД і дозволяє виконувати SQL-запити.\n",
    "Мета-команді починаються зі зворотної косої черти і комбінації символів. Наприклад \\l - виводить перелік всіх баз даних,\n",
    "\n",
    "![command psql \\l](./media/psql_command_l.png)\n",
    "\n",
    "(хай Вас не дивує що там не тільки створена нами БД - PostgreSQL для забезпечення своєї роботи створює необхідні бази даних)\n",
    "А команда \\dt - виводить список всіх таблиць поточної БД, до якої ми підключені:\n",
    "\n",
    "![command psql \\dt](./media/psql_dt.png)\n",
    "\n",
    "Давайте виконаємо простий SQL-запит, користуючись наявними знаннями з попередніх курсів. Наприклад, з таблиці us_states виведемо 20 рядків (виключно щоб влізли на один екран). Команда і результат будуть виглядати наступним чином:\n",
    "\n",
    "![psql_simply_SQL_query](./media/psql_SQL_query.png)\n",
    "\n",
    "Я пропоную Вам зануритись в [документацію тут](https://www.postgresql.org/docs/14/app-psql.html) і [посібник тут](https://tomcam.github.io/postgres/) для більш детального вивчення можливостей.\n",
    "\n",
    "А ми з вами вивчимо ще одну команду psql \\q, яка завершує роботу psql і будемо рухатися далі.\n",
    "\n",
    "![psql quit](./media/psql_quit.png)"
   ]
  },
  {
   "cell_type": "markdown",
   "metadata": {
    "collapsed": false,
    "pycharm": {
     "name": "#%% md\n"
    }
   },
   "source": [
    "#### Підключення web-клієнта pgAdmin\n",
    "\n",
    "Psql - зручний клієнт і він завжди є якщо є postgreSQL. Але не всм звично працювати з консольними застосунками і графічний інтерфейс має свої переваги. Тому ми з Вами заздалегідь про це подумали та розгорнули в іншому контейнері web-клієнта pgAdmin. Під'єднаємо його до нашої БД.\n",
    "\n",
    "В своєму браузері в рядку URL наберіть 127.0.0.1:5055 (якщо ви не змінювали в порти в docker-compose.yaml). Це займе деякий час і ви побачите наступну картинку у браузері:\n",
    "\n",
    "![pgAdmin start](./media/pgAdmin_start.png)"
   ]
  },
  {
   "cell_type": "markdown",
   "metadata": {
    "collapsed": false,
    "pycharm": {
     "name": "#%% md\n"
    }
   },
   "source": [
    "введіть пароль, який ми з Вами вказали в docker-compose.yaml при описі сервісу pgadmin для змінної оточення       PGADMIN_DEFAULT_PASSWORD - sql_essential.\n",
    "\n",
    "Після цього вікно пароля зникне і Вам необхідно правою кнопкою миші клікнути по надпису Server в лівій частині єкрану і перейти по відкриваючихся пунктах меню як показано на малюнку нижче:\n",
    "\n",
    "![pgAdmin реєстрація сервера](./media/pgAdmin_register_server.png)"
   ]
  },
  {
   "cell_type": "markdown",
   "metadata": {
    "collapsed": false,
    "pycharm": {
     "name": "#%% md\n"
    }
   },
   "source": [
    "Далі відкриється вікно з декількома закладками. Спочатку дивимось \"General\". В полі \"Name\" введіть будь-яку назву для сервера баз даних у контейнері, до якого ми зараз будемо підключатись. Я назвав у себе - \"sql_eesential_db\", ви можете обрати будь-яку зручну для Вас назву.\n",
    "\n",
    "![pgAdmin Server name](./media/pgAdmin_server_name.png)"
   ]
  },
  {
   "cell_type": "markdown",
   "metadata": {
    "collapsed": false,
    "pycharm": {
     "name": "#%% md\n"
    }
   },
   "source": [
    "Наступним кроком в цьому ж вікні необхідно перейти на закладку \"Connection\" і налаштувати з'єднання з сервером БД і з самою базою даних. При налаштуванні - зазирайте в docker-compose.yaml і згадайте що всі сервіси, які знаходяться в одній docker network звертаються один до одного за іменами сервісів.\n",
    "\n",
    "![pgAdmin connection](./media/pgAdmin_connection.png)"
   ]
  },
  {
   "cell_type": "markdown",
   "metadata": {
    "collapsed": false,
    "pycharm": {
     "name": "#%% md\n"
    }
   },
   "source": [
    "Після внесення всіх цих налаштувань натискаєте кнопку \"Save\" - і pgAdmin підключиться до Вашої БД і відобразить Вам щось схоже на картинку нижче:\n",
    "\n",
    "![pgAdmin monitor](./media/pgAdmin_monitor.png)\n"
   ]
  },
  {
   "cell_type": "markdown",
   "metadata": {
    "collapsed": false,
    "pycharm": {
     "name": "#%% md\n"
    }
   },
   "source": [
    "Ви бачите перед собою інтерфейс клієнта PgAdmin, який підключений до вашого сервера postgreSQL розгорнутого в контейнері і підключеного до розгорнутої на сервері базі даних. Пропоную Вам у вікні браузера зліва пройтись по дереву, знайти нашу БД подивитись на таблиці (Server -> sql_essential_db -> Databases -> sql_essential_db -> Schemas -> publoc -> Tables).\n",
    "\n",
    "Давайте зробимо простий запит до нашої БД. Для цього відкрийте інструмент \"Query Tool\", відкриється робоча зона для набору SQL-запитів, наберіть запит і нажміть іконку \"виконати\".\n",
    "\n",
    "Все зображено на скріні нижче:\n",
    "\n",
    "![Query Tool](./media/pgAdmin_query_tool.png)"
   ]
  },
  {
   "cell_type": "markdown",
   "metadata": {
    "collapsed": false,
    "pycharm": {
     "name": "#%% md\n"
    }
   },
   "source": [
    "#### Підключення DBeaver\n",
    "\n",
    "PgAdmin - зручний інструмент для керування БД PostgreSQL, але завжди добре коли є вибір. Я постійно використовую DBeaver - клієнтський програмний застосунок SQL і інструмент адміністрування баз даних.\n",
    "\n",
    "Я пропоную за бажанням встановити його з [сайта тут](https://dbeaver.io/) під час підготовки до наступного заняття.\n",
    "Після встановлення в лівій зоні робочого екрану (\"Бази даних\") клік правою кнопкою миші відкриває контекстне меню. Перейдіть в ньому в пункт меню \"Створити\" -> \"З'єднання\". Цей застосунок підтримує велику кількість БД, тому спочатку треба обрати необхідний тип БД. А далі створити з'єднання дуже схоже на те, що ми вже сьогодні з Вами робили.\n",
    "Буде одне питання - подумайте що в цьому випадку повинно бути іменем хоста - згадайте курс про Docker."
   ]
  },
  {
   "cell_type": "markdown",
   "metadata": {
    "collapsed": false,
    "pycharm": {
     "name": "#%% md\n"
    }
   },
   "source": [
    "#### Підключення до БД з Python."
   ]
  },
  {
   "cell_type": "markdown",
   "metadata": {
    "collapsed": false,
    "pycharm": {
     "name": "#%% md\n"
    }
   },
   "source": [
    "Тепер нам необхідно навчитись підключатись до нашої БД безпосередньо з наших python-скриптів. Прошу Вас згадати наш курс \"Python Advanced\" під час якого ми знайомились з концепцією SQL на прикладі роботи з SQLite. Тоді ми з'ясували що для підключення до DBMS SQLite в python існує вбудований модуль sqlite3.\n",
    "Стосовно PostgreSQL майже така ж ситуація: існує велика кількість модулів \"конекторів\", які дозволяють працювати з PostgreSQL. Вони всі не є вбудованими, тому перед використанням їх треба встановити. Докладніше з деякими з них ви можете познайомитись тут(https://wiki.python.org/moin/PostgreSQL).\n",
    "Ми будемо використовувати модуль psycopg2, установіть його перед використанням (якщо ви встановили всі залежності з requirements.txt - то все добре - він там вказаний). Докладніше про цей модуль можна прочитати на [сторінці документації](https://www.psycopg.org/docs/).\n",
    "\n"
   ]
  },
  {
   "cell_type": "code",
   "execution_count": null,
   "metadata": {
    "collapsed": false,
    "pycharm": {
     "name": "#%%\n"
    }
   },
   "outputs": [],
   "source": [
    "import psycopg2\n",
    "from psycopg2 import OperationalError"
   ]
  },
  {
   "cell_type": "markdown",
   "metadata": {
    "collapsed": false,
    "pycharm": {
     "name": "#%% md\n"
    }
   },
   "source": [
    "Спочатку нам необхідно створити підключення до БД. Для цього існує об'єкт psycopg2.connect ([детальна документація тут](https://www.psycopg.org/docs/module.html?highlight=connect#psycopg2.connect)). Я сподіваюсь що ви ще не забули як ми з Вами підключали клієнтів до нашої БД (я про pgAdmin і DBeaver) і пам'ятаєте дані, які необхідно було повідомити їм для підключення:\n",
    "- ім'я бази даних\n",
    "- ім'я користувача від імені якого ми підключаємось\n",
    "- пароль користувача\n",
    "- адресу (або ім'я - ми ж пам'ятаємо що воно DNS-службою буде перетворене на адресу) хоста де розгорнутий сервер PostgreSQL\n",
    "- порт - на якому \"слухає\" розгорнутий сервер\n",
    "\n",
    "Точно такі ж дані нам необхідно для підключення передати і в psycopg2.connect.\n",
    "Так як при підключенні інколи може виникнути помилка яка, не може бути під нашим контролем (наприклад в цей час сервер не буде запущений), я використовую вийняток OperationalError з модуля psycopg2 ([докладно про вийнятики в модулі і їх призначення тут](https://www.psycopg.org/docs/module.html?highlight=operationalerror#psycopg2.OperationalError)).\n",
    "\n",
    "Напишемо функцію яка буде повертати нам підключення до нашої БД:"
   ]
  },
  {
   "cell_type": "code",
   "execution_count": null,
   "metadata": {
    "collapsed": false,
    "pycharm": {
     "name": "#%%\n"
    }
   },
   "outputs": [],
   "source": [
    "def create_connection(db_name, db_user, db_password, db_host, db_port):\n",
    "    connection = None\n",
    "    try:\n",
    "        connection = psycopg2.connect(\n",
    "            database=db_name,\n",
    "            user=db_user,\n",
    "            password=db_password,\n",
    "            host=db_host,\n",
    "            port=db_port,\n",
    "        )\n",
    "        print(\"Connection to PostgreSQL DB successful\")\n",
    "    except OperationalError as e:\n",
    "        print(f\"The error '{e}' occurred\")\n",
    "    return connection"
   ]
  },
  {
   "cell_type": "markdown",
   "metadata": {
    "collapsed": false,
    "pycharm": {
     "name": "#%% md\n"
    }
   },
   "source": [
    "Тепер створимо змінні з реальними даними для підключення до БД. Звертаю Вашу увагу на такий параметр як ім'я хоста. Коли ми створювали підключення для pgAdmin - ми використовували ім'я хоста postgres - це є ім'я сервіса для нашого сервера postgreSQL в файлі docker-compose.yaml. Іншим сервісом в цьому файлі ми оголошуємо наш pgAdmin.\n",
    "З попередього курсу \"Docker&Python\" ми пам'ятаємо, що за замовченням (це наш випадок) всі сервіси подключаються до однієї мережі типу bridge і, завдяки створеній docker DNS-службі в межах цієї мережі можуть звертатись один до одного за іменами сервісів. Тому для нашого pgAdmin ім'я хоста з PostgreSQL буде postgres (ім'я сервісу).\n",
    "У випадку підключення з нашого скрипта, який запущений не в контейнері (в нашому випадку, тому що при бажанні можна запускати і в контейнері) і не підключений до docker network, хост postgreSQL буде мати іншу адресу. Подумайте яку. Якщо це для вас незрозуміло - згадайте курс Docker&Python."
   ]
  },
  {
   "cell_type": "code",
   "execution_count": null,
   "metadata": {
    "collapsed": false,
    "pycharm": {
     "name": "#%%\n"
    }
   },
   "outputs": [],
   "source": [
    "database=\"sql_essential_db\"\n",
    "user=\"student\"\n",
    "password=\"cyberbionics\"\n",
    "host=\"127.0.0.1\"\n",
    "port=5432"
   ]
  },
  {
   "cell_type": "code",
   "execution_count": null,
   "metadata": {
    "collapsed": false,
    "pycharm": {
     "name": "#%%\n"
    }
   },
   "outputs": [],
   "source": [
    "connection = create_connection(\n",
    "    db_name=database,\n",
    "    db_user=user,\n",
    "    db_password=password,\n",
    "    db_host=host,\n",
    "    db_port=port\n",
    ")"
   ]
  },
  {
   "cell_type": "markdown",
   "metadata": {
    "collapsed": false,
    "pycharm": {
     "name": "#%% md\n"
    }
   },
   "source": [
    "Якщо сервер запущений і ви чітко притримувались інструкції - ви побачите повідомлення про успішне підключення до бази даних.\n",
    "\n",
    "Тепер напишемо функцію яка буде виконувати наші SQL-запити.\n",
    "Логіка роботи з PostgrеSQL дуже схожа на логіку роботи з SQLite:\n",
    "- connection (який ми вже створили) має метод cursor, який (дуже логічно! :-) ) повертає об'єкт cursor ([докладно про це тут](https://www.psycopg.org/docs/connection.html?highlight=cursor#connection.cursor))\n",
    "- об'єкт cursor має метод cursor.execute - виконує операцію описану в SQL-запиті в базі даних до якої цей cursor прив'язаний ([докладно про це тут](https://www.psycopg.org/docs/cursor.html?highlight=execute#cursor.execute)). А як буде виконуватись цей запит - буде залежати від іншого параметра, про який далі\n",
    "- connection - має атрибут connection.autocommit, який керує режимом виконання команди cursor.execute. Дуже коротко - чи буде команда виконана одразу (ншого параметра, про який далі\n",
    "- connection - має атрибут connection.autocommit=True), чи команді будуть запускати транзакцію і не виконуватись одразу, а завершуватись лише після виклику спеціальної команди (commit). Зараз ми не будемо в це заглиблюватись - для чого так зроблено - а просто встановимо режим негайного виконання ([докладніше про це тут](https://www.psycopg.org/docs/connection.html?highlight=autocommit#connection.autocommit))\n",
    "\n",
    "Отже - наша функція буде мати наступний вигляд:"
   ]
  },
  {
   "cell_type": "code",
   "execution_count": null,
   "metadata": {
    "collapsed": false,
    "pycharm": {
     "name": "#%%\n"
    }
   },
   "outputs": [],
   "source": [
    "def execute_query(connection, query):\n",
    "    connection.autocommit = True\n",
    "    cursor = connection.cursor()\n",
    "    try:\n",
    "        cursor.execute(query)\n",
    "        print(\"Query executed successfully\")\n",
    "    except OperationalError as e:\n",
    "        print(f\"The error '{e}' occurred\")"
   ]
  },
  {
   "cell_type": "markdown",
   "metadata": {
    "collapsed": false,
    "pycharm": {
     "name": "#%% md\n"
    }
   },
   "source": [
    "Як ви бачите - ця функція нічого не повертає. Ії необхідно використовувати для запитів від яких ми очікуємо якихось дій з нашою БД, але не очікуємо нічого назад (наприклад - створення таблиць, вставка даних і т. ін.)\n",
    "\n",
    "Але і отримувати від БД ми також щось періодично повинні! Тому напишемо ще оду функцію:"
   ]
  },
  {
   "cell_type": "code",
   "execution_count": null,
   "metadata": {
    "collapsed": false,
    "pycharm": {
     "name": "#%%\n"
    }
   },
   "outputs": [],
   "source": [
    "def execute_read_query(connection, query):\n",
    "    cursor = connection.cursor()\n",
    "    result = None\n",
    "    try:\n",
    "        cursor.execute(query)\n",
    "        result = cursor.fetchall()\n",
    "        return result\n",
    "    except OperationalError as e:\n",
    "        print(f\"The error '{e}' occurred\")"
   ]
  },
  {
   "cell_type": "markdown",
   "metadata": {
    "collapsed": false,
    "pycharm": {
     "name": "#%% md\n"
    }
   },
   "source": [
    "Описана функція майже така ж як і попередня, за виключенням рядка `result = cursor.fetchall()`\n",
    "Після виконання курсором запиту SQL, який має щось повернути, метод fetchall повертає список кортежів результатів ([докладніше про це тут](https://www.psycopg.org/docs/cursor.html?highlight=fetchall#cursor.fetchall)).\n",
    "\n",
    "Тепер у нас все є для подальших дій. Нам лишилося перевірити як все це працює. Давайте створимо простий SQL-запит і виконаємо. Наприклад - це може бути саме той запит, яким ми перевіряли роботу pgAdmin:\n"
   ]
  },
  {
   "cell_type": "code",
   "execution_count": null,
   "metadata": {
    "collapsed": false,
    "pycharm": {
     "name": "#%%\n"
    }
   },
   "outputs": [],
   "source": [
    "query = \"\"\"\n",
    "SELECT *\n",
    "FROM customers;\n",
    "\"\"\""
   ]
  },
  {
   "cell_type": "markdown",
   "metadata": {
    "collapsed": false,
    "pycharm": {
     "name": "#%% md\n"
    }
   },
   "source": [
    "Так як ми очікуємо отримати у відповідь якісь результати, використаємо функцію execute_read_query():"
   ]
  },
  {
   "cell_type": "code",
   "execution_count": null,
   "metadata": {
    "collapsed": false,
    "pycharm": {
     "name": "#%%\n"
    }
   },
   "outputs": [],
   "source": [
    "query_result = execute_read_query(\n",
    "    connection=connection,\n",
    "    query=query\n",
    ")\n",
    "\n",
    "print(query_result)"
   ]
  },
  {
   "cell_type": "markdown",
   "metadata": {
    "collapsed": false,
    "pycharm": {
     "name": "#%% md\n"
    }
   },
   "source": [
    "Вітаю Вас!\n",
    "Протягом заняття ми з Вами:\n",
    "- створили контейнеризовану інфраструктуру для розгортання СУБД PostgrSQL\n",
    "- розгорнули в межах створеної інфраструктури БД і наповнили її даними\n",
    "- навчились взаємодіяти з БД за допомогою штатного консольного інструменту psql\n",
    "- розгорнули в контейнері допоміжний інструмент для керування БД і виконання запитів - pgAdmin і підключили його до розгорнутого сервера PostgreSQL і створеної БД\n",
    "- розгорнули за межами контейнерізованої структури інший інструмент для адміністрування БД і виконання запитів - DBeaver. Підключили до нашого сервера і виконали тестові запити.\n",
    "- створили за межами контейнеризованої структури python-скрипт що вміє підключатись до нашої БД і виконувати SQL-запити.\n",
    "\n",
    "Тепер ми маємо повний набір інструментів для подальшого вивчення роботи з PostgreSQL."
   ]
  }
 ],
 "metadata": {
  "kernelspec": {
   "display_name": ".venv",
   "language": "python",
   "name": "python3"
  },
  "language_info": {
   "codemirror_mode": {
    "name": "ipython",
    "version": 3
   },
   "file_extension": ".py",
   "mimetype": "text/x-python",
   "name": "python",
   "nbconvert_exporter": "python",
   "pygments_lexer": "ipython3",
   "version": "3.10.8"
  },
  "vscode": {
   "interpreter": {
    "hash": "9638ab908a3d057c39366469a2f6e98655520ee10d4ea313cd4911d69c3372da"
   }
  }
 },
 "nbformat": 4,
 "nbformat_minor": 1
}
