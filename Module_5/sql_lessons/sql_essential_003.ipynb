{
 "cells": [
  {
   "attachments": {},
   "cell_type": "markdown",
   "metadata": {},
   "source": [
    "# Введення в реляційні бази даних.\n",
    "# PostgreSQL + Python\n",
    "\n",
    "---\n",
    "\n",
    "## лекція 3: Об'єднання таблиць (JOIN) і підзапити"
   ]
  },
  {
   "cell_type": "code",
   "execution_count": null,
   "metadata": {},
   "outputs": [],
   "source": [
    "from python_postgresql import execute_query, execute_read_query, connection\n",
    "print(\"лекція 3: Об'єднання таблиць (JOIN) і підзапити\")"
   ]
  },
  {
   "attachments": {},
   "cell_type": "markdown",
   "metadata": {},
   "source": [
    "### JOIN - поєднання таблиць\n",
    "\n",
    "До цього ми з Вами працювали лише з однією таблицею. Але - це на завжди зручно і можливість мати поєднання декількох таблиць для отримання фінального результату - це потужна річ, яка забезпечується оператором JOIN. Докладно про особливості використання JOIN в PostgreSQL - [тут](https://www.postgresql.org/docs/14/queries-table-expressions.html#QUERIES-FROM).\n",
    "\n",
    "Якщо просто - ця операція дає можливість поєднати декілька таблиць у одну велику таблицю за якимось правилом. Перд тім як ми перейдемо до коду - які бувають поєднання (ми зараз не про всі можливі, а про ті які вживаються частіше).\n",
    "\n",
    "Правило поєднання - це відповідність атрибута однієї таблиці атрибуту іншої таблиці. Наприклад - у нас є users.id (це первинний ключ для таблиці users) і в таблиці emails є атрибут user_id - (вторинний ключ, який посилається на id таблиці users). Ми можемо поєднати users і emails за принципом users.id = emails.user_id. Трохи докладніше розберемо на прикладі далі.\n",
    "\n",
    "![як працює JOIN](media/sql-table-joins.png)\n",
    "\n",
    "У кожній операції поєднання таблиць беруть участь дві таблиці - \"ліва\" і \"права\" (звісно ми можемо виконати декілька операцій об'єднання таблиць підряд і поєднати більше ніж дві таблиці, але навчатись краще на прикладі з лише двома таблицями). Операція приєднання - не симетрична, тобто результат може залежати від \"зміни місць\".\n",
    "\n",
    "---\n",
    "\n",
    "#### INNER JOIN\n",
    "\n",
    "- в результаті будуть тільки ті рядки, для яких той самий принцип поєднання, за яким ми приєдуємо таблиці, присутній для двох таблиць. Давайте уявимо що нам потрібна таблиця яка включає всі замовлення (orders) клієнта Wartian Herkku (customer_id = 'WARTH')  з даними про компанію яка займалась доставкою (таблиця shippers) цього замовлення до клієнта. Тобто, ми хочемо зробити наступне поднання талиць:\n",
    "-  ми приєднуємо до orders (\"ліва таблиця\") таблицю shippers (\"права таблиця\") за принципом orders.ship_via = shippers.shipper_id, обираємо лише рядки для яких orders.customer_id = 'WARTH'\n",
    "Як при цьому працює поєднання?\n",
    "1) Береться рядок з \"лівої\" таблиці і СУБД дивиться - чи це потрібний для нас рядок (orders.order_id = 'WARTH')? Якщо умова не виконується - відкидає його і переходи до обробки наступного рядка. Якщо умова виконується -  СУБД дивиться чи є атрибут orders.ship_via (в різних випадках він може бути і не бути - можливо у нас бувають умови самовивозу замовлень для клієнтів і тоді компанії-доставника просто не існує для цього замовлення - тобто значення NULL - \"нічого\").\n",
    "Якщо атрибута такого немає, то цей рядок відкидається і не попадає у фінальний набір. Переходимо до іншого рядка \"лівої\" таблиці.\n",
    "2) Якщо у рядка \"лівої\" таблиці є атрибут для поєднання, то починаємо дивитись рядки \"правої\" таблиці. Дивимось саме той атрибут, по якому ця таблиця повинна бути приєднана до \"лівої\". В нашому випадку - це атрибут shippers.shipper_id. Як тільки знаходиться рядок, для якого умова поєднання True (тобто orders.ship_via = shippers.shiper_id - поєднаний рядок (атрибути з таблиці orders з рядка першого кроку) + атрибути знайденого рядка з таблиці shippers на цьому кроці включається в фінальний набір.\n",
    "3) В нашому випадку значенню orders.ship_via відповідає лише одне значення з таблиці shippers.shiper_id (зрозуміло що у одного замовлення може бути один перевізник). І це зафіксовано в обмеженнях на дані для наших таблиць - ми маємо відношення \"один до багатьох\" між таблицями shippers та orders (у кожного замовлення може бути лише один перевізник, але один перевізник може бути у багатьох замовлень). Тому СУБД, знаючи про це обмеження і знайшовши відповідність для поєднання рядків - зупиняє пошук і переходе до обробки інших рядків \"лівої\" таблиці. Але, якщо б ми використовували іншу модель обмежень даних (наприклад - замовлення такі великі і можуть доставлятись різними перевізниками навіть у межах одного замовлення - при цьому \"права\" таблиця малаб іншу структуру - ми будемо про це говорити докладно пізніше), тоді СУБД переходять до інших рядків \"правої\" таблиці. Якщо знову находять рядок в цій таблиці, для якого атрибут приєднання дорівнює знайденому на кроці 1 атрибуту приеднання \"правої\" таблиці, то і ці рядки включаються до фінального набору - тобто в цьому разі наш поєднаний рядок ПОВТОРИТЬ всі атрибути з таблиці orders (той рядок, який ми обрали на етапі 1 і він став першою частиною результата на етапі 2) і додасть до нього атрибути з рядка таблиці shippers, який ми знайшли на цьому кроці.\n",
    "4) Що буде - якщо для атрибута orders.ship_via рядка, який ми обрали на першому етапі ми не знайдемо ні однієї відповідності атрибуту shippers.shipper_id з таблиці shipper (в нашому випадку це неможливо, але в загальному - це реально)? Рядок з таблиці НЕ БУДЕ ВКЛЮЧЕНО до фінального набору.\n",
    "\n",
    "Тобто - при використанні INNER JOIN у фінальну вибірку включаються лише ті рядки з обох таблиць, для яких ОБОВ'ЯЗКОВО є виконання умови поєднання."
   ]
  },
  {
   "cell_type": "code",
   "execution_count": null,
   "metadata": {},
   "outputs": [],
   "source": [
    "operation_query = \"\"\"\n",
    "SELECT *\n",
    "FROM orders\n",
    "INNER JOIN shippers ON orders.ship_via = shippers.shipper_id\n",
    "WHERE orders.customer_id = 'WARTH';\n",
    "\"\"\"\n",
    "\n",
    "final_set = execute_read_query(connection, operation_query)\n",
    "if final_set:\n",
    "    for record in final_set:\n",
    "        print(record)\n",
    "else:\n",
    "    print(final_set)"
   ]
  },
  {
   "attachments": {},
   "cell_type": "markdown",
   "metadata": {},
   "source": [
    "Важливо запам'ятати, що в результати INNER JOIN не попадуть рядки, для яких не виконується умова поєднання ДЛЯ ОБОХ ТАБЛИЦЬ.\n",
    "Ви можете використовувати JOIN замість INNER JOIN - за замовченням розуміється саме INNER JOIN."
   ]
  },
  {
   "attachments": {},
   "cell_type": "markdown",
   "metadata": {},
   "source": [
    "Двайте зробимо ще один запит для закріплення матеріалу.\n",
    "Давайте виберео всі замовлення того ж клієнта Wartian Herkku (customer_id = 'WARTH') за весь час і отримаємо всі його замовлення і їх сумми."
   ]
  },
  {
   "cell_type": "code",
   "execution_count": null,
   "metadata": {},
   "outputs": [],
   "source": [
    "operation_query = \"\"\"\n",
    "SELECT orders.order_id, SUM(order_details.unit_price * order_details.quantity * ( 1 - order_details.discount))\n",
    "FROM orders\n",
    "INNER JOIN order_details ON orders.order_id = order_details.order_id\n",
    "WHERE orders.customer_id = 'WARTH'\n",
    "group by orders.order_id;\n",
    "\"\"\"\n",
    "\n",
    "final_set = execute_read_query(connection, operation_query)\n",
    "if final_set:\n",
    "    for record in final_set:\n",
    "        print(record)\n",
    "else:\n",
    "    print(final_set)"
   ]
  },
  {
   "attachments": {},
   "cell_type": "markdown",
   "metadata": {},
   "source": [
    "А тепер зробимо поєднання більше ніх двох таблиць.\n",
    "Нам необхідна талиця, яка надасть нам інформацію про дату замовлення, номер замовлення, назву товара в замовленні, його вартість, дисконт, кількість у замовленні і сумму по товару, а також країну в яку ми все це відправляли. Тут точно буде поєнання більше ніж двох таблиць."
   ]
  },
  {
   "cell_type": "code",
   "execution_count": null,
   "metadata": {},
   "outputs": [],
   "source": [
    "operation_query = \"\"\"\n",
    "SELECT orders.order_date, orders.order_id, products.product_name, order_details.unit_price, order_details.discount, order_details.quantity, ( order_details.unit_price * (1 - order_details.discount) * order_details.quantity) AS total_price, orders.ship_country\n",
    "FROM orders\n",
    "INNER JOIN order_details ON orders.order_id = order_details.order_id\n",
    "INNER JOIN products ON products.product_id = order_details.product_id;\n",
    "\"\"\"\n",
    "\n",
    "final_set = execute_read_query(connection, operation_query)\n",
    "if final_set:\n",
    "    for record in final_set:\n",
    "        print(record)\n",
    "else:\n",
    "    print(final_set)"
   ]
  },
  {
   "attachments": {},
   "cell_type": "markdown",
   "metadata": {},
   "source": [
    "---\n",
    "\n",
    "#### OUTER JOIN (LEFT JOIN, RIGHT JOIN)\n",
    "\n",
    "Давайте уявимо що ми хочемо вивести таблицю яка буде включати ВСІ рядки для \"лівої\" таблиці і, якщо для якогось з ціх рядків не виконується умова поєднання у \"правій\" таблиці - просто мати в доповнених ячейках NULL. Для нас не підійде поєднання INNER JOIN. Тому що там можуть бути не всі користувачі. Передивіться крок 4 попереднього пояснення - якщо для якогось користувача не буде ні однієї відповідності у \"правій\" таблиці - то цей рядок не буде включений у фінальний результат.\n",
    "\n",
    "В цьому випадку необхідно використовувати OUTER JOIN - в одному із його варіантів - LEFT JOIN або RIGHT JOIN (трошки пізніше - про різницю між ними).\n",
    "\n",
    "Алгоритм включення рядків до фінального результату - інший. Коротко:\n",
    "- для LEFT JOIN\n",
    "    - беремо рядок \"лівої таблиці\". Для атрибута приеднання в \"правій таблиці\" починаємо шукати співпадіння з її атрибутом приеднання. Якщо співпадіння є - включаемо поєднаний рядок у фінальний результат. Якщо співпадіння немає - ми все одно включаємо в фінальний результат поєднаний рядок, але всі атрибути з \"правої таблиці\" які повинні війти у фінальний результат, заповнюемо значенням NULL (\"нічого немає\").\n",
    "- для RIGHT JOIN\n",
    "    - все теж саме, що і для LEFT JOIN, але в якості \"лівої таблиці\" - тобто тієї, з якої всі рядки попадуть у фінальний результат, береться та, що стоїть справа))). Тобто - те ж саме, просто погляд з іншого боку. Якщо просто поміняти таблиці у виразі містами і використати LEFT JOIN - буде те ж саме що не міняти і виконати RIGHT JOIN.\n",
    "\n",
    "\n",
    "LEFT JOIN (RIGHT JOIN) - не завжди буде відрізнятись від INNER JOIN. Якщо для ВСІХ рядків \"правої\" таблиці будуть існувати відповідні рядки \"лівої\" таблиці - то обидва ціх поєднання дадуть однаковий результат."
   ]
  },
  {
   "attachments": {},
   "cell_type": "markdown",
   "metadata": {},
   "source": [
    "Давайте спробуємо знайти компанії (customers) на яких взагалі немає замовлень (orders).\n",
    "Для цього нам треба поєднати ці дві таблиці саме через LEFT JOIN (тому що тоді можуть з'явитись рядки де всі артибути стосовно замовлень будуть NULL), і відфільтрувати такі рядки"
   ]
  },
  {
   "cell_type": "code",
   "execution_count": null,
   "metadata": {},
   "outputs": [],
   "source": [
    "operation_query = \"\"\"\n",
    "SELECT customers.customer_id, customers.company_name, orders.order_id\n",
    "FROM customers\n",
    "LEFT JOIN orders ON orders.customer_id = customers.customer_id\n",
    "WHERE orders.order_id IS NULL;\n",
    "\"\"\"\n",
    "\n",
    "final_set = execute_read_query(connection, operation_query)\n",
    "if final_set:\n",
    "    for record in final_set:\n",
    "        print(record)\n",
    "else:\n",
    "    print(final_set)"
   ]
  },
  {
   "attachments": {},
   "cell_type": "markdown",
   "metadata": {},
   "source": [
    "Самостійно замініть LEFT JOIN на INNER JOIN і порівняйте результати запитів.\n",
    "Пропоную Вам знайти робітників компанії, які не згенерували ні одного замовлення)."
   ]
  },
  {
   "attachments": {},
   "cell_type": "markdown",
   "metadata": {},
   "source": [
    "#### FULL JOIN\n",
    "\n",
    "Після вивчення LEFT JOIN і RIGHT JOIN тут все просто. У фінальний результат включаються ВСІ рядки з обох таблиць - і з \"лівої таблиці\" і з \"правої\". Якщо в якихось випадках вираз поєднання (left_table.attribute_X == right_table.attribute_Y) має значення False (тобто для якогось рядка немає відповідного по цій парі атрибутів рядка з іншої таблиці) - то рядки все одно вносяться у фінальний результат, але там де немає відповідності - атрибути заповнюються значенням NULL. Тобто - це симетрична операція, і в загальному випадку у фінальному результаті будуть атрибути із значенням NULL як у правій частині фінального результату, так і в лівій."
   ]
  },
  {
   "attachments": {},
   "cell_type": "markdown",
   "metadata": {},
   "source": [
    "#### CROSS JOIN\n",
    "\n",
    "CROSS JOIN використовується нечасто. Якщо говорити про це строгою мовою визначень - це декартове множення таблиць. Тобто - сполучену таблицю утворюють всі можливі поєднання рядків з T1 і T2, а набір її стовпців поєднує у собі стовпці  T1 з наступними стовпцями T2. Якщо таблиці містять N і M рядків, з'єднана таблиця міститиме N * M рядків.\n",
    "\n",
    "```FROM T1 CROSS JOIN T2``` рівнозначно ```FROM T1 INNER JOIN T2 ON TRUE```. Цей запис також рівнозначний ```FROM T1, T2```"
   ]
  },
  {
   "attachments": {},
   "cell_type": "markdown",
   "metadata": {},
   "source": [
    "#### USING та NATURAL JOIN\n",
    "\n",
    "Про \"синтаксичний цукор\".\n",
    "Нагадую, що цей термін використовують коли хочуть описати якусь спеціальну конструкцію мови, яка не додає функціональності - тобто все це є можна зробити і за допомогою інших конструкцій - але робить наш код коротшим або більш виразним.\n",
    "Зараз - саме про такі конструкції."
   ]
  },
  {
   "attachments": {},
   "cell_type": "markdown",
   "metadata": {},
   "source": [
    "USING - зручно використовувати коли Ви проводите поєднання різних тались по атрибутам які мають однакові назви. При цьому не потрібно вказувати назву таблиці - тільки назву стовпця - і це робить вираз більш лаконічним.\n",
    "Приклад:"
   ]
  },
  {
   "cell_type": "code",
   "execution_count": null,
   "metadata": {},
   "outputs": [],
   "source": [
    "operation_query = \"\"\"\n",
    "SELECT order_id, product_name, category_name\n",
    "FROM orders\n",
    "JOIN order_details USING(order_id)\n",
    "JOIN products USING(product_id)\n",
    "JOIN categories USING(category_id)\n",
    "LIMIT 10;\n",
    "\"\"\"\n",
    "\n",
    "final_set = execute_read_query(connection, operation_query)\n",
    "if final_set:\n",
    "    for record in final_set:\n",
    "        print(record)\n",
    "else:\n",
    "    print(final_set)"
   ]
  },
  {
   "attachments": {},
   "cell_type": "markdown",
   "metadata": {},
   "source": [
    "Пропоную Вам для порівняння та відпрацювання навичок переписати цей же запит звичайним чином - викорстовуючи __ON__."
   ]
  },
  {
   "attachments": {},
   "cell_type": "markdown",
   "metadata": {},
   "source": [
    "NATURAL JOIN - ще розвиває цб ідею.\n",
    "Просто вказуєш таблицю - і СУБД самостійно шукає стовпці з однаковими назвами і з'єднує таблиці за відповідністю ціх стовпців.\n",
    "Приклад запиту:"
   ]
  },
  {
   "cell_type": "code",
   "execution_count": null,
   "metadata": {},
   "outputs": [],
   "source": [
    "operation_query = \"\"\"\n",
    "SELECT order_id, customer_id, first_name, last_name, title\n",
    "FROM orders\n",
    "NATURAL JOIN employees\n",
    "LIMIT 10;\n",
    "\"\"\"\n",
    "\n",
    "final_set = execute_read_query(connection, operation_query)\n",
    "if final_set:\n",
    "    for record in final_set:\n",
    "        print(record)\n",
    "else:\n",
    "    print(final_set)"
   ]
  },
  {
   "attachments": {},
   "cell_type": "markdown",
   "metadata": {},
   "source": [
    "Все дуже коротко і працює, але...\n",
    "Завжди є але. І, на мій погляд, в цьому випадку дуже істотне.\n",
    "Стовпці не вказані явним чином. А якщо їх декілька? Ну да це ще не сама проста біда. А якщо, після того як запит написаний і працює, таблиці були змінені і в них були додані стовпці з однаковими назвами? Яка буде поведінка?\n",
    "Ми з Вами вивчаємо python і, на одній з перших лекцій ми говорили про дзен-python і один з принципів - \"Explicit is better than implicit\" - \"явне краще ніх неявне\". Я не рекомендую Вам використовувати NATURAL JOIN саме з цієї причини - він може бути джерелом проблем які важко виявляти."
   ]
  },
  {
   "attachments": {},
   "cell_type": "markdown",
   "metadata": {},
   "source": [
    "#### AS - псевдоніми\n",
    "\n",
    "Ми вже використовували з Вами конструкцію AS.\n",
    "Вона надає псевдонім якомусь атрибуту (або навіть таблиці чи ще якомусь об'єкту) для зручності використання.\n",
    "Наприклад запит:\n",
    "```SQL\n",
    "SELECT COUNT(*) AS orders_count\n",
    "FROM orders;\n",
    "```\n",
    "сфрмує для нас таблицю з одним рядком і одним стовпчиком в цьому рядку, і цей стовпчик буде мати навзву __orders_count__\n",
    "\n",
    "AS можна використовувати не скрізь.\n",
    "Наприклад псевдоніми не можна використовувати в WHERE (HAVING) - тому що  WHERE (HAVING) відпрацьовує до того, як буде виконуватись SELECT - в якому буде відпрацьована команда AS.\n",
    "\n",
    "Приклад:"
   ]
  },
  {
   "cell_type": "code",
   "execution_count": null,
   "metadata": {},
   "outputs": [],
   "source": [
    "operation_query = \"\"\"\n",
    "SELECT category_id, SUM(unit_price * units_in_stock) AS total_price\n",
    "FROM products\n",
    "WHERE discontinued <> 1\n",
    "GROUP BY category_id\n",
    "HAVING SUM(unit_price * units_in_stock) > 1000\n",
    "ORDER BY total_price;\n",
    "\"\"\"\n",
    "\n",
    "final_set = execute_read_query(connection, operation_query)\n",
    "if final_set:\n",
    "    for record in final_set:\n",
    "        print(record)\n",
    "else:\n",
    "    print(final_set)"
   ]
  },
  {
   "attachments": {},
   "cell_type": "markdown",
   "metadata": {},
   "source": [
    "Ми не мали можливості використовувати total_price з HAVING, але з GROUP BY - без перешкод. Поексперементуйте с запитом.\n",
    "\n",
    "\n",
    "Звеніть увагу на псевдоніми - по існують ситуації при яких без них дуже важно (або неможливо) - наприклад при використанні підзапитів до вивчення яких ми перейдемо в наступному розділі."
   ]
  },
  {
   "attachments": {},
   "cell_type": "markdown",
   "metadata": {},
   "source": [
    "### Підзапити\n",
    "\n",
    "[документація тут](https://www.postgresql.org/docs/14/functions-subquery.html)\n",
    "\n",
    "Інкол запити бувають складними і надто складними. І їх дуже важно одразу написати.\n",
    "\n",
    "Але, сподіваюсь, ви пам'ятеєте що основа вирішення складних завдань - декомпозиція. Тобто - розбити складне завдання на більш прості складови частини і вирішувати простіші завдання - які потім об'єдуються в базову складну задачу.\n",
    "\n",
    "Саме так і в написанні складних запитів: їх можна розбивати на більш прості і зрозумілі підзапити і потім конструювати фінальне рішення з ціх підзапитів.\n",
    "\n",
    "Ми вже говорили про те, що результат виконання будь-якого запиту - таблиця. А раз це таблиця - то ми можемо використовувати до неї весь відомий нам апарат SQL: робити до неї запити, поєднувати з іншими таблицями і т.д. Все це лежить в основі побудови і використання підзапитів.\n",
    "\n",
    "Необхідно розуміти, що в більшості ситуацій запит з підзапитом може бути переписаний без підзапита (як правило з використанням поєднання таблиць) - але це може бути менш читаємо. Для того щоб зрозуміти - чи треба переписувати запити - необхідно оцінбвати швидкість виконання запиту (вона повинна бути не масимально, а достатньою) і читабельність. Більше того - існує такий елемент СУБД як планувальник, який планує виконання запитів на основі нашого синтаксису і він часто сам перетворює наш запит з підзапитами і запит з поєднанням таблиць. Розумною поведінкою буде використовувати планувальник щоб подивитись на швидкість виконання запитів і потім приймати рішення. Як це робити - ми будемо розмовляти пізніше.\n",
    "\n",
    "А зараз про синтаксис підзапитів на практиці.\n",
    "Уявимо, що керівництво нашої компанії планує привітати з якимось святом керівників компаній-постачальників передавши їм подарунки, та не хоче витрачатись на курьерів), а тому хоче використати наших співробітників у тіх містах, де є постачальники і наші співробітники. І хоче отримати від нас перелік всіх компаній-постачальників і контактних осіб, де є наші співробітники. А для цього нам потрібен перелік міст - де є і наші співробітники і наші постачальники.\n",
    "Спочатку нам необхідно отримати всі міста де є наші співробітники:\n",
    "\n",
    "```SQL\n",
    "SELECT DISTINCT city\n",
    "FROM employees;\n",
    "```"
   ]
  },
  {
   "cell_type": "code",
   "execution_count": null,
   "metadata": {},
   "outputs": [],
   "source": [
    "operation_query = \"\"\"\n",
    "SELECT DISTINCT city\n",
    "FROM employees;\n",
    "\"\"\"\n",
    "\n",
    "final_set = execute_read_query(connection, operation_query)\n",
    "if final_set:\n",
    "    for record in final_set:\n",
    "        print(record)\n",
    "else:\n",
    "    print(final_set)"
   ]
  },
  {
   "attachments": {},
   "cell_type": "markdown",
   "metadata": {},
   "source": [
    "Тепер треба вибрати компанії-постачальники, які розташовані в ціх містах. Звичайно, це можливо можна зробити так:"
   ]
  },
  {
   "cell_type": "code",
   "execution_count": null,
   "metadata": {},
   "outputs": [],
   "source": [
    "operation_query = \"\"\"\n",
    "SELECT company_name, contact_name, contact_title, city\n",
    "FROM suppliers\n",
    "WHERE city in ('Redmond', 'London', 'Tacoma', 'Kirkland', 'Seattle');\n",
    "\"\"\"\n",
    "\n",
    "final_set = execute_read_query(connection, operation_query)\n",
    "if final_set:\n",
    "    for record in final_set:\n",
    "        print(record)\n",
    "else:\n",
    "    print(final_set)"
   ]
  },
  {
   "attachments": {},
   "cell_type": "markdown",
   "metadata": {},
   "source": [
    "Принймі це працює. Але, уявіть, що таких міст не 5, а 500. Не дуже здорово вбивати це руками. Використати підзапит буде значно елегантніше:"
   ]
  },
  {
   "cell_type": "code",
   "execution_count": null,
   "metadata": {},
   "outputs": [],
   "source": [
    "operation_query = \"\"\"\n",
    "SELECT company_name, contact_name, contact_title, city\n",
    "FROM suppliers\n",
    "WHERE city in (\n",
    "    SELECT DISTINCT city\n",
    "    FROM employees\n",
    "    );\n",
    "\"\"\"\n",
    "\n",
    "final_set = execute_read_query(connection, operation_query)\n",
    "if final_set:\n",
    "    for record in final_set:\n",
    "        print(record)\n",
    "else:\n",
    "    print(final_set)"
   ]
  },
  {
   "attachments": {},
   "cell_type": "markdown",
   "metadata": {},
   "source": [
    "Все досить просто - підзапит це звичайний запити, який в дужках підставляється в інший запит там, де необхідно використати результат цього підзапиту.\n",
    "\n",
    "Давайте напишемо звапит який поверне нам всі товари залишки яких на складі менші ниж середні залишки по товару (в грошовому еквіваленті). Такі запити просто писати послідовно. Спочатку - як отримати середні залишки по найменуванню товарів в грошовому еквіваленті:\n",
    "\n",
    "```SQL\n",
    "SELECT AVG(units_in_stock * unit_price)\n",
    "FROM products\n",
    "```\n",
    "\n",
    "Ну а потім необхідно вивести всі найменування товарів, залишки по яким менші ніж це значення.\n",
    "Фінальний запит виглядає так:"
   ]
  },
  {
   "cell_type": "code",
   "execution_count": null,
   "metadata": {},
   "outputs": [],
   "source": [
    "operation_query = \"\"\"\n",
    "SELECT product_id, product_name, (units_in_stock * unit_price) AS balances_for_the_amount\n",
    "FROM products\n",
    "WHERE (units_in_stock * unit_price) < (\n",
    "    SELECT AVG(units_in_stock * unit_price)\n",
    "    FROM products\n",
    "    )\n",
    "ORDER BY balances_for_the_amount DESC;\n",
    "\"\"\"\n",
    "\n",
    "final_set = execute_read_query(connection, operation_query)\n",
    "if final_set:\n",
    "    for record in final_set:\n",
    "        print(record)\n",
    "else:\n",
    "    print(final_set)"
   ]
  },
  {
   "attachments": {},
   "cell_type": "markdown",
   "metadata": {},
   "source": [
    "#### WHERE EXISTS\n",
    "\n",
    "Аргументом EXISTS є звичайний оператор SELECT, тобто підзапит. Виконавши запит, система перевіряє, чи він повертає рядки в результаті. Якщо він повертає мінімум один рядок, результатом EXISTS буде \"true\", а якщо не повертає жодного - \"false\".\n",
    "\n",
    "Підзапит може звертатися до змінних зовнішнього запиту, які в рамках одного обчислення підзапиту вважаються константами.\n",
    "\n",
    "Взагалі кажучи, підзапит може виконуватися не повністю, а завершуватися, щойно буде повернуто хоча б один рядок. Тому у підзапитах слід уникати побічних ефектів (наприклад, звернень до генераторів послідовностей); прояв побічного ефекту може бути непередбачуваним.\n",
    "\n",
    "Так як результат цього виразу залежить тільки від того, повертаються рядки чи ні, але не від їхнього вмісту, список вихідних значень підзапит зазвичай не має значення. Як наслідок, поширена практика, коли перевірки EXISTS записуються у формі EXISTS(SELECT 1 WHERE ...). Однак із цього правила є й винятки, наприклад із підзапитами з INTERSECT.\n",
    "\n",
    "Підзапит може звертатися до змінних зовнішнього запиту, які в рамках одного обчислення підзапиту вважаються константами.\n",
    "\n",
    "Давайте розглянемо це на прикладі - знайдемо всіх замовників, замовлення яких коли небудь важили більше ніж 100 кг.\n",
    "Запит:"
   ]
  },
  {
   "cell_type": "code",
   "execution_count": null,
   "metadata": {},
   "outputs": [],
   "source": [
    "operation_query = \"\"\"\n",
    "SELECT company_name, contact_name, contact_title\n",
    "FROM customers\n",
    "WHERE EXISTS (\n",
    "    SELECT 1\n",
    "    FROM orders\n",
    "    WHERE customers.customer_id = customer_id AND freight > 100\n",
    ");\n",
    "\"\"\"\n",
    "\n",
    "final_set = execute_read_query(connection, operation_query)\n",
    "if final_set:\n",
    "    for record in final_set:\n",
    "        print(record)\n",
    "else:\n",
    "    print(final_set)"
   ]
  },
  {
   "attachments": {},
   "cell_type": "markdown",
   "metadata": {},
   "source": [
    "Давайте розберемо запит.\n",
    "В тілі підзапиту - ```SELECT 1 ...```  - нам неважливе значення результату, нам важливо є він чи немає. Тому, якщо він є, нас абсолютно влаштовує значення 1.\n",
    "В тілі підзапиту ми використовуємо custimers.customer_id ```... WHERE customers.customer_id = customer_id ... ```. Це значення береться з тіла \"огортаючого запиту\" і його треба сприймати як константу."
   ]
  },
  {
   "attachments": {},
   "cell_type": "markdown",
   "metadata": {},
   "source": [
    "#### Підзапити з ANY(SOME)\\ALL\n",
    "\n",
    "Пропоную - на прикладі. Давайте оберемо компанії, які замовляли великі замовлення - більше ніж по 50 одиниць товарів одного найменування в одному замовленні.\n",
    "Одразу - цей запит можна зробити декількома варіантами. Ми зараз вивчаємо підзапити, тому я іду цім шляхом.\n",
    "Підзапит має вигляд:\n",
    "\n",
    "```SQL\n",
    "SELECT customer_id\n",
    "FROM orders\n",
    "JOIN order_details USING(order_id)\n",
    "WHERE quantity > 50;\n",
    "```\n",
    "\n",
    "Підзапит поверне нам всі customer_id замовників, які відповідають умові. Таким чином наш повний запит може мати наступний вигляд:"
   ]
  },
  {
   "cell_type": "code",
   "execution_count": null,
   "metadata": {},
   "outputs": [],
   "source": [
    "operation_query = \"\"\"\n",
    "SELECT company_name, contact_name, contact_title\n",
    "FROM customers\n",
    "WHERE customer_id = ANY(\n",
    "    SELECT customer_id\n",
    "    FROM orders\n",
    "    JOIN order_details USING(order_id)\n",
    "    WHERE quantity > 50\n",
    ");\n",
    "\"\"\"\n",
    "\n",
    "final_set = execute_read_query(connection, operation_query)\n",
    "if final_set:\n",
    "    for record in final_set:\n",
    "        print(record)\n",
    "else:\n",
    "    print(final_set)"
   ]
  },
  {
   "attachments": {},
   "cell_type": "markdown",
   "metadata": {},
   "source": [
    "Тобто - ANY (SOME - синонім) - \"будь-який\".\n",
    "\n",
    "Тепер про умову ALL.\n",
    "\n",
    "Цей квантифікатор вимагає щоб умова порівняння виконувалась не для одного елементу підзапиту (як ANY), а для всіх."
   ]
  }
 ],
 "metadata": {
  "kernelspec": {
   "display_name": ".venv",
   "language": "python",
   "name": "python3"
  },
  "language_info": {
   "codemirror_mode": {
    "name": "ipython",
    "version": 3
   },
   "file_extension": ".py",
   "mimetype": "text/x-python",
   "name": "python",
   "nbconvert_exporter": "python",
   "pygments_lexer": "ipython3",
   "version": "3.10.8"
  },
  "orig_nbformat": 4,
  "vscode": {
   "interpreter": {
    "hash": "9638ab908a3d057c39366469a2f6e98655520ee10d4ea313cd4911d69c3372da"
   }
  }
 },
 "nbformat": 4,
 "nbformat_minor": 2
}
